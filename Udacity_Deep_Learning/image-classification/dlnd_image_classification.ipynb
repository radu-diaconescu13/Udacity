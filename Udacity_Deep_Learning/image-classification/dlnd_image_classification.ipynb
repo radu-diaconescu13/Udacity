{
 "cells": [
  {
   "cell_type": "markdown",
   "metadata": {
    "collapsed": true
   },
   "source": [
    "# Image Classification\n",
    "In this project, you'll classify images from the [CIFAR-10 dataset](https://www.cs.toronto.edu/~kriz/cifar.html).  The dataset consists of airplanes, dogs, cats, and other objects. You'll preprocess the images, then train a convolutional neural network on all the samples. The images need to be normalized and the labels need to be one-hot encoded.  You'll get to apply what you learned and build a convolutional, max pooling, dropout, and fully connected layers.  At the end, you'll get to see your neural network's predictions on the sample images.\n",
    "## Get the Data\n",
    "Run the following cell to download the [CIFAR-10 dataset for python](https://www.cs.toronto.edu/~kriz/cifar-10-python.tar.gz)."
   ]
  },
  {
   "cell_type": "code",
   "execution_count": null,
   "metadata": {},
   "outputs": [
    {
     "name": "stderr",
     "output_type": "stream",
     "text": [
      "CIFAR-10 Dataset:  87%|████████▋ | 148M/170M [01:45<00:25, 889KB/s]     "
     ]
    }
   ],
   "source": [
    "\"\"\"\n",
    "DON'T MODIFY ANYTHING IN THIS CELL THAT IS BELOW THIS LINE\n",
    "\"\"\"\n",
    "from urllib.request import urlretrieve\n",
    "from os.path import isfile, isdir\n",
    "from tqdm import tqdm\n",
    "import problem_unittests as tests\n",
    "import tarfile\n",
    "\n",
    "cifar10_dataset_folder_path = 'cifar-10-batches-py'\n",
    "\n",
    "# Use Floyd's cifar-10 dataset if present\n",
    "floyd_cifar10_location = '/input/cifar-10/python.tar.gz'\n",
    "if isfile(floyd_cifar10_location):\n",
    "    tar_gz_path = floyd_cifar10_location\n",
    "else:\n",
    "    tar_gz_path = 'cifar-10-python.tar.gz'\n",
    "\n",
    "class DLProgress(tqdm):\n",
    "    last_block = 0\n",
    "\n",
    "    def hook(self, block_num=1, block_size=1, total_size=None):\n",
    "        self.total = total_size\n",
    "        self.update((block_num - self.last_block) * block_size)\n",
    "        self.last_block = block_num\n",
    "\n",
    "if not isfile(tar_gz_path):\n",
    "    with DLProgress(unit='B', unit_scale=True, miniters=1, desc='CIFAR-10 Dataset') as pbar:\n",
    "        urlretrieve(\n",
    "            'https://www.cs.toronto.edu/~kriz/cifar-10-python.tar.gz',\n",
    "            tar_gz_path,\n",
    "            pbar.hook)\n",
    "\n",
    "if not isdir(cifar10_dataset_folder_path):\n",
    "    with tarfile.open(tar_gz_path) as tar:\n",
    "        tar.extractall()\n",
    "        tar.close()\n",
    "\n",
    "\n",
    "tests.test_folder_path(cifar10_dataset_folder_path)"
   ]
  },
  {
   "cell_type": "markdown",
   "metadata": {},
   "source": [
    "## Explore the Data\n",
    "The dataset is broken into batches to prevent your machine from running out of memory.  The CIFAR-10 dataset consists of 5 batches, named `data_batch_1`, `data_batch_2`, etc.. Each batch contains the labels and images that are one of the following:\n",
    "* airplane\n",
    "* automobile\n",
    "* bird\n",
    "* cat\n",
    "* deer\n",
    "* dog\n",
    "* frog\n",
    "* horse\n",
    "* ship\n",
    "* truck\n",
    "\n",
    "Understanding a dataset is part of making predictions on the data.  Play around with the code cell below by changing the `batch_id` and `sample_id`. The `batch_id` is the id for a batch (1-5). The `sample_id` is the id for a image and label pair in the batch.\n",
    "\n",
    "Ask yourself \"What are all possible labels?\", \"What is the range of values for the image data?\", \"Are the labels in order or random?\".  Answers to questions like these will help you preprocess the data and end up with better predictions."
   ]
  },
  {
   "cell_type": "code",
   "execution_count": 2,
   "metadata": {},
   "outputs": [
    {
     "name": "stdout",
     "output_type": "stream",
     "text": [
      "\n",
      "Stats of batch 5:\n",
      "Samples: 10000\n",
      "Label Counts: {0: 1014, 1: 1014, 2: 952, 3: 1016, 4: 997, 5: 1025, 6: 980, 7: 977, 8: 1003, 9: 1022}\n",
      "First 20 Labels: [1, 8, 5, 1, 5, 7, 4, 3, 8, 2, 7, 2, 0, 1, 5, 9, 6, 2, 0, 8]\n",
      "\n",
      "Example of Image 8:\n",
      "Image - Min Value: 0 Max Value: 247\n",
      "Image - Shape: (32, 32, 3)\n",
      "Label - Label Id: 8 Name: ship\n"
     ]
    },
    {
     "data": {
      "image/png": "[encoded data removed]",
      "text/plain": [
       "<matplotlib.figure.Figure at 0x37f28f9588>"
      ]
     },
     "metadata": {
      "image/png": {
       "height": 250,
       "width": 253
      }
     },
     "output_type": "display_data"
    }
   ],
   "source": [
    "%matplotlib inline\n",
    "%config InlineBackend.figure_format = 'retina'\n",
    "\n",
    "import helper\n",
    "import numpy as np\n",
    "\n",
    "# Explore the dataset\n",
    "batch_id = 5\n",
    "sample_id = 8\n",
    "helper.display_stats(cifar10_dataset_folder_path, batch_id, sample_id)"
   ]
  },
  {
   "cell_type": "markdown",
   "metadata": {},
   "source": [
    "## Implement Preprocess Functions\n",
    "### Normalize\n",
    "In the cell below, implement the `normalize` function to take in image data, `x`, and return it as a normalized Numpy array. The values should be in the range of 0 to 1, inclusive.  The return object should be the same shape as `x`."
   ]
  },
  {
   "cell_type": "code",
   "execution_count": 3,
   "metadata": {},
   "outputs": [
    {
     "name": "stdout",
     "output_type": "stream",
     "text": [
      "Tests Passed\n"
     ]
    }
   ],
   "source": [
    "def normalize(x):\n",
    "    \"\"\"\n",
    "    Normalize a list of sample image data in the range of 0 to 1\n",
    "    : x: List of image data.  The image shape is (32, 32, 3)\n",
    "    : return: Numpy array of normalize data\n",
    "    \"\"\"\n",
    "    # TODO: Implement Function\n",
    "    return (x - np.amin(x))/(np.amax(x) - np.amin(x))\n",
    "\n",
    "\n",
    "\"\"\"\n",
    "DON'T MODIFY ANYTHING IN THIS CELL THAT IS BELOW THIS LINE\n",
    "\"\"\"\n",
    "tests.test_normalize(normalize)"
   ]
  },
  {
   "cell_type": "markdown",
   "metadata": {},
   "source": [
    "### One-hot encode\n",
    "Just like the previous code cell, you'll be implementing a function for preprocessing.  This time, you'll implement the `one_hot_encode` function. The input, `x`, are a list of labels.  Implement the function to return the list of labels as One-Hot encoded Numpy array.  The possible values for labels are 0 to 9. The one-hot encoding function should return the same encoding for each value between each call to `one_hot_encode`.  Make sure to save the map of encodings outside the function.\n",
    "\n",
    "Hint: Don't reinvent the wheel."
   ]
  },
  {
   "cell_type": "code",
   "execution_count": 4,
   "metadata": {},
   "outputs": [
    {
     "name": "stdout",
     "output_type": "stream",
     "text": [
      "Tests Passed\n"
     ]
    }
   ],
   "source": [
    "from sklearn import preprocessing\n",
    "\n",
    "def one_hot_encode(x):\n",
    "    \"\"\"\n",
    "    One hot encode a list of sample labels. Return a one-hot encoded vector for each label.\n",
    "    : x: List of sample Labels\n",
    "    : return: Numpy array of one-hot encoded labels\n",
    "    \"\"\"\n",
    "    \n",
    "    rows = len(x)      \n",
    "    onehot_x = np.zeros([rows,10])    \n",
    "    for idx,v in  enumerate(x):      \n",
    "        onehot_x[idx][v] = 1\n",
    "       \n",
    "    return onehot_x\n",
    "\n",
    "\n",
    "\"\"\"\n",
    "DON'T MODIFY ANYTHING IN THIS CELL THAT IS BELOW THIS LINE\n",
    "\"\"\"\n",
    "tests.test_one_hot_encode(one_hot_encode)"
   ]
  },
  {
   "cell_type": "markdown",
   "metadata": {},
   "source": [
    "### Randomize Data\n",
    "As you saw from exploring the data above, the order of the samples are randomized.  It doesn't hurt to randomize it again, but you don't need to for this dataset."
   ]
  },
  {
   "cell_type": "markdown",
   "metadata": {},
   "source": [
    "## Preprocess all the data and save it\n",
    "Running the code cell below will preprocess all the CIFAR-10 data and save it to file. The code below also uses 10% of the training data for validation."
   ]
  },
  {
   "cell_type": "code",
   "execution_count": 5,
   "metadata": {
    "collapsed": true
   },
   "outputs": [],
   "source": [
    "\"\"\"\n",
    "DON'T MODIFY ANYTHING IN THIS CELL\n",
    "\"\"\"\n",
    "# Preprocess Training, Validation, and Testing Data\n",
    "helper.preprocess_and_save_data(cifar10_dataset_folder_path, normalize, one_hot_encode)"
   ]
  },
  {
   "cell_type": "markdown",
   "metadata": {},
   "source": [
    "# Check Point\n",
    "This is your first checkpoint.  If you ever decide to come back to this notebook or have to restart the notebook, you can start from here.  The preprocessed data has been saved to disk."
   ]
  },
  {
   "cell_type": "code",
   "execution_count": 2,
   "metadata": {
    "collapsed": true
   },
   "outputs": [],
   "source": [
    "\"\"\"\n",
    "DON'T MODIFY ANYTHING IN THIS CELL\n",
    "\"\"\"\n",
    "import pickle\n",
    "import problem_unittests as tests\n",
    "import helper\n",
    "\n",
    "# Load the Preprocessed Validation data\n",
    "valid_features, valid_labels = pickle.load(open('preprocess_validation.p', mode='rb'))"
   ]
  },
  {
   "cell_type": "markdown",
   "metadata": {},
   "source": [
    "## Build the network\n",
    "For the neural network, you'll build each layer into a function.  Most of the code you've seen has been outside of functions. To test your code more thoroughly, we require that you put each layer in a function.  This allows us to give you better feedback and test for simple mistakes using our unittests before you submit your project.\n",
    "\n",
    ">**Note:** If you're finding it hard to dedicate enough time for this course each week, we've provided a small shortcut to this part of the project. In the next couple of problems, you'll have the option to use classes from the [TensorFlow Layers](https://www.tensorflow.org/api_docs/python/tf/layers) or [TensorFlow Layers (contrib)](https://www.tensorflow.org/api_guides/python/contrib.layers) packages to build each layer, except the layers you build in the \"Convolutional and Max Pooling Layer\" section.  TF Layers is similar to Keras's and TFLearn's abstraction to layers, so it's easy to pickup.\n",
    "\n",
    ">However, if you would like to get the most out of this course, try to solve all the problems _without_ using anything from the TF Layers packages. You **can** still use classes from other packages that happen to have the same name as ones you find in TF Layers! For example, instead of using the TF Layers version of the `conv2d` class, [tf.layers.conv2d](https://www.tensorflow.org/api_docs/python/tf/layers/conv2d), you would want to use the TF Neural Network version of `conv2d`, [tf.nn.conv2d](https://www.tensorflow.org/api_docs/python/tf/nn/conv2d). \n",
    "\n",
    "Let's begin!\n",
    "\n",
    "### Input\n",
    "The neural network needs to read the image data, one-hot encoded labels, and dropout keep probability. Implement the following functions\n",
    "* Implement `neural_net_image_input`\n",
    " * Return a [TF Placeholder](https://www.tensorflow.org/api_docs/python/tf/placeholder)\n",
    " * Set the shape using `image_shape` with batch size set to `None`.\n",
    " * Name the TensorFlow placeholder \"x\" using the TensorFlow `name` parameter in the [TF Placeholder](https://www.tensorflow.org/api_docs/python/tf/placeholder).\n",
    "* Implement `neural_net_label_input`\n",
    " * Return a [TF Placeholder](https://www.tensorflow.org/api_docs/python/tf/placeholder)\n",
    " * Set the shape using `n_classes` with batch size set to `None`.\n",
    " * Name the TensorFlow placeholder \"y\" using the TensorFlow `name` parameter in the [TF Placeholder](https://www.tensorflow.org/api_docs/python/tf/placeholder).\n",
    "* Implement `neural_net_keep_prob_input`\n",
    " * Return a [TF Placeholder](https://www.tensorflow.org/api_docs/python/tf/placeholder) for dropout keep probability.\n",
    " * Name the TensorFlow placeholder \"keep_prob\" using the TensorFlow `name` parameter in the [TF Placeholder](https://www.tensorflow.org/api_docs/python/tf/placeholder).\n",
    "\n",
    "These names will be used at the end of the project to load your saved model.\n",
    "\n",
    "Note: `None` for shapes in TensorFlow allow for a dynamic size."
   ]
  },
  {
   "cell_type": "code",
   "execution_count": 3,
   "metadata": {},
   "outputs": [
    {
     "name": "stdout",
     "output_type": "stream",
     "text": [
      "Image Input Tests Passed.\n",
      "Label Input Tests Passed.\n",
      "Keep Prob Tests Passed.\n"
     ]
    }
   ],
   "source": [
    "import tensorflow as tf\n",
    "\n",
    "def neural_net_image_input(image_shape):\n",
    "    \"\"\"\n",
    "    Return a Tensor for a batch of image input\n",
    "    : image_shape: Shape of the images\n",
    "    : return: Tensor for image input.\n",
    "    \"\"\"\n",
    "    return tf.placeholder(tf.float32, [None, image_shape[0], image_shape[1], image_shape[2]], name='x')\n",
    "\n",
    "\n",
    "def neural_net_label_input(n_classes):\n",
    "    \"\"\"\n",
    "    Return a Tensor for a batch of label input\n",
    "    : n_classes: Number of classes\n",
    "    : return: Tensor for label input.\n",
    "    \"\"\"\n",
    "    return tf.placeholder(tf.float32, [None, n_classes], name='y')\n",
    "\n",
    "\n",
    "def neural_net_keep_prob_input():\n",
    "    \"\"\"\n",
    "    Return a Tensor for keep probability\n",
    "    : return: Tensor for keep probability.\n",
    "    \"\"\"\n",
    "    return tf.placeholder(tf.float32, name='keep_prob')\n",
    "\n",
    "\n",
    "\"\"\"\n",
    "DON'T MODIFY ANYTHING IN THIS CELL THAT IS BELOW THIS LINE\n",
    "\"\"\"\n",
    "tf.reset_default_graph()\n",
    "tests.test_nn_image_inputs(neural_net_image_input)\n",
    "tests.test_nn_label_inputs(neural_net_label_input)\n",
    "tests.test_nn_keep_prob_inputs(neural_net_keep_prob_input)"
   ]
  },
  {
   "cell_type": "markdown",
   "metadata": {},
   "source": [
    "### Convolution and Max Pooling Layer\n",
    "Convolution layers have a lot of success with images. For this code cell, you should implement the function `conv2d_maxpool` to apply convolution then max pooling:\n",
    "* Create the weight and bias using `conv_ksize`, `conv_num_outputs` and the shape of `x_tensor`.\n",
    "* Apply a convolution to `x_tensor` using weight and `conv_strides`.\n",
    " * We recommend you use same padding, but you're welcome to use any padding.\n",
    "* Add bias\n",
    "* Add a nonlinear activation to the convolution.\n",
    "* Apply Max Pooling using `pool_ksize` and `pool_strides`.\n",
    " * We recommend you use same padding, but you're welcome to use any padding.\n",
    "\n",
    "**Note:** You **can't** use [TensorFlow Layers](https://www.tensorflow.org/api_docs/python/tf/layers) or [TensorFlow Layers (contrib)](https://www.tensorflow.org/api_guides/python/contrib.layers) for **this** layer, but you can still use TensorFlow's [Neural Network](https://www.tensorflow.org/api_docs/python/tf/nn) package. You may still use the shortcut option for all the **other** layers."
   ]
  },
  {
   "cell_type": "code",
   "execution_count": 4,
   "metadata": {},
   "outputs": [
    {
     "name": "stdout",
     "output_type": "stream",
     "text": [
      "Tests Passed\n"
     ]
    }
   ],
   "source": [
    "def conv2d_maxpool(x_tensor, conv_num_outputs, conv_ksize, conv_strides, pool_ksize, pool_strides):\n",
    "    \"\"\"\n",
    "    Apply convolution then max pooling to x_tensor\n",
    "    :param x_tensor: TensorFlow Tensor\n",
    "    :param conv_num_outputs: Number of outputs for the convolutional layer\n",
    "    :param conv_ksize: kernal size 2-D Tuple for the convolutional layer\n",
    "    :param conv_strides: Stride 2-D Tuple for convolution\n",
    "    :param pool_ksize: kernal size 2-D Tuple for pool\n",
    "    :param pool_strides: Stride 2-D Tuple for pool\n",
    "    : return: A tensor that represents convolution and max pooling of x_tensor\n",
    "    \"\"\"\n",
    "    weight = tf.Variable(tf.truncated_normal((conv_ksize[0], conv_ksize[1], x_tensor.get_shape().as_list()[3], conv_num_outputs), stddev=0.088, dtype=tf.float32), name=\"weight\")\n",
    "    bias = tf.Variable(tf.zeros(conv_num_outputs))\n",
    "    conv_layer = tf.nn.conv2d(x_tensor, weight, [1,conv_strides[0],conv_strides[1],1], padding='SAME')\n",
    "    conv_layer = tf.nn.bias_add(conv_layer, bias)\n",
    "    conv_layer = tf.nn.relu(conv_layer)\n",
    "    conv_layer = tf.nn.max_pool(conv_layer, [1,pool_ksize[0],pool_ksize[1], 1], [1, pool_strides[0], pool_strides[1], 1], padding='SAME')\n",
    "    return conv_layer \n",
    "\n",
    "\n",
    "\"\"\"\n",
    "DON'T MODIFY ANYTHING IN THIS CELL THAT IS BELOW THIS LINE\n",
    "\"\"\"\n",
    "tests.test_con_pool(conv2d_maxpool)"
   ]
  },
  {
   "cell_type": "markdown",
   "metadata": {},
   "source": [
    "### Flatten Layer\n",
    "Implement the `flatten` function to change the dimension of `x_tensor` from a 4-D tensor to a 2-D tensor.  The output should be the shape (*Batch Size*, *Flattened Image Size*). Shortcut option: you can use classes from the [TensorFlow Layers](https://www.tensorflow.org/api_docs/python/tf/layers) or [TensorFlow Layers (contrib)](https://www.tensorflow.org/api_guides/python/contrib.layers) packages for this layer. For more of a challenge, only use other TensorFlow packages."
   ]
  },
  {
   "cell_type": "code",
   "execution_count": 5,
   "metadata": {},
   "outputs": [
    {
     "name": "stdout",
     "output_type": "stream",
     "text": [
      "Tests Passed\n"
     ]
    }
   ],
   "source": [
    "def flatten(x_tensor):\n",
    "    \"\"\"\n",
    "    Flatten x_tensor to (Batch Size, Flattened Image Size)\n",
    "    : x_tensor: A tensor of size (Batch Size, ...), where ... are the image dimensions.\n",
    "    : return: A tensor of size (Batch Size, Flattened Image Size).\n",
    "    \"\"\"  \n",
    "    shape = x_tensor.get_shape().as_list()\n",
    "    new_size = shape[1]*shape[2]*shape[3]\n",
    "    return tf.reshape(x_tensor,[-1, new_size])\n",
    "\n",
    "\n",
    "\"\"\"\n",
    "DON'T MODIFY ANYTHING IN THIS CELL THAT IS BELOW THIS LINE\n",
    "\"\"\"\n",
    "tests.test_flatten(flatten)"
   ]
  },
  {
   "cell_type": "markdown",
   "metadata": {},
   "source": [
    "### Fully-Connected Layer\n",
    "Implement the `fully_conn` function to apply a fully connected layer to `x_tensor` with the shape (*Batch Size*, *num_outputs*). Shortcut option: you can use classes from the [TensorFlow Layers](https://www.tensorflow.org/api_docs/python/tf/layers) or [TensorFlow Layers (contrib)](https://www.tensorflow.org/api_guides/python/contrib.layers) packages for this layer. For more of a challenge, only use other TensorFlow packages."
   ]
  },
  {
   "cell_type": "code",
   "execution_count": 6,
   "metadata": {},
   "outputs": [
    {
     "name": "stdout",
     "output_type": "stream",
     "text": [
      "Tests Passed\n"
     ]
    }
   ],
   "source": [
    "def fully_conn(x_tensor, num_outputs):\n",
    "    \"\"\"\n",
    "    Apply a fully connected layer to x_tensor using weight and bias\n",
    "    : x_tensor: A 2-D tensor where the first dimension is batch size.\n",
    "    : num_outputs: The number of output that the new tensor should be.\n",
    "    : return: A 2-D tensor where the second dimension is num_outputs.\n",
    "    \"\"\"\n",
    "    data_shape = x_tensor.get_shape().as_list()\n",
    "    \n",
    "    bias = tf.Variable(tf.zeros([num_outputs]))\n",
    "    weights = tf.Variable(tf.truncated_normal([data_shape[1], num_outputs], mean=0.0, stddev=0.1))\n",
    "    \n",
    "    hidden_layer = tf.add(tf.matmul(x_tensor, weights), bias)\n",
    "    hidden_layer = tf.nn.relu(hidden_layer)\n",
    "    return hidden_layer\n",
    "\n",
    "\n",
    "\"\"\"\n",
    "DON'T MODIFY ANYTHING IN THIS CELL THAT IS BELOW THIS LINE\n",
    "\"\"\"\n",
    "tests.test_fully_conn(fully_conn)"
   ]
  },
  {
   "cell_type": "markdown",
   "metadata": {},
   "source": [
    "### Output Layer\n",
    "Implement the `output` function to apply a fully connected layer to `x_tensor` with the shape (*Batch Size*, *num_outputs*). Shortcut option: you can use classes from the [TensorFlow Layers](https://www.tensorflow.org/api_docs/python/tf/layers) or [TensorFlow Layers (contrib)](https://www.tensorflow.org/api_guides/python/contrib.layers) packages for this layer. For more of a challenge, only use other TensorFlow packages.\n",
    "\n",
    "**Note:** Activation, softmax, or cross entropy should **not** be applied to this."
   ]
  },
  {
   "cell_type": "code",
   "execution_count": 7,
   "metadata": {},
   "outputs": [
    {
     "name": "stdout",
     "output_type": "stream",
     "text": [
      "Tests Passed\n"
     ]
    }
   ],
   "source": [
    "def output(x_tensor, num_outputs):\n",
    "    \"\"\"\n",
    "    Apply a output layer to x_tensor using weight and bias\n",
    "    : x_tensor: A 2-D tensor where the first dimension is batch size.\n",
    "    : num_outputs: The number of output that the new tensor should be.\n",
    "    : return: A 2-D tensor where the second dimension is num_outputs.\n",
    "    \"\"\"\n",
    "    data_shape = x_tensor.get_shape().as_list()\n",
    "    \n",
    "    bias = tf.Variable(tf.zeros([num_outputs]))\n",
    "    weights = tf.Variable(tf.truncated_normal([data_shape[1], num_outputs], mean=0.0, stddev=0.15))\n",
    "    \n",
    "    output_layer = tf.add(tf.matmul(x_tensor, weights), bias)\n",
    "    \n",
    "    return output_layer\n",
    "\n",
    "\n",
    "\"\"\"\n",
    "DON'T MODIFY ANYTHING IN THIS CELL THAT IS BELOW THIS LINE\n",
    "\"\"\"\n",
    "tests.test_output(output)"
   ]
  },
  {
   "cell_type": "markdown",
   "metadata": {},
   "source": [
    "### Create Convolutional Model\n",
    "Implement the function `conv_net` to create a convolutional neural network model. The function takes in a batch of images, `x`, and outputs logits.  Use the layers you created above to create this model:\n",
    "\n",
    "* Apply 1, 2, or 3 Convolution and Max Pool layers\n",
    "* Apply a Flatten Layer\n",
    "* Apply 1, 2, or 3 Fully Connected Layers\n",
    "* Apply an Output Layer\n",
    "* Return the output\n",
    "* Apply [TensorFlow's Dropout](https://www.tensorflow.org/api_docs/python/tf/nn/dropout) to one or more layers in the model using `keep_prob`. "
   ]
  },
  {
   "cell_type": "code",
   "execution_count": 8,
   "metadata": {},
   "outputs": [
    {
     "name": "stdout",
     "output_type": "stream",
     "text": [
      "Neural Network Built!\n"
     ]
    }
   ],
   "source": [
    "def conv_net(x, keep_prob):\n",
    "    \"\"\"\n",
    "    Create a convolutional neural network model\n",
    "    : x: Placeholder tensor that holds image data.\n",
    "    : keep_prob: Placeholder tensor that hold dropout keep probability.\n",
    "    : return: Tensor that represents logits\n",
    "    \"\"\"\n",
    "    l1_conv_num_outputs = 32\n",
    "    l1_conv_ksize = [2, 2]\n",
    "    l1_conv_strides = [1, 1]\n",
    "    l1_pool_ksize = [2, 2]\n",
    "    l1_pool_strides = [2, 2]\n",
    "    conv1 = conv2d_maxpool(x, l1_conv_num_outputs, l1_conv_ksize, l1_conv_strides, l1_pool_ksize, l1_pool_strides)\n",
    "    \n",
    "    l2_conv_num_outputs = 64\n",
    "    l2_conv_ksize = [2, 2]\n",
    "    l2_conv_strides = [1, 1]\n",
    "    l2_pool_ksize = [2, 2]\n",
    "    l2_pool_strides = [2, 2]\n",
    "    conv2 = conv2d_maxpool(conv1, l2_conv_num_outputs, l2_conv_ksize, l2_conv_strides, l2_pool_ksize, l2_pool_strides)\n",
    "\n",
    "    flate_conv_1 = flatten(conv1)\n",
    "\n",
    "    num_outputs_1 = 32\n",
    "    fully_connect_1 = fully_conn(flate_conv_1, num_outputs_1)\n",
    "    \n",
    "    num_outputs_2 = 20\n",
    "    fully_connect_2 = fully_conn(fully_connect_1, num_outputs_2)\n",
    "    \n",
    "    dropped = tf.nn.dropout(fully_connect_2, keep_prob)\n",
    "    \n",
    "\n",
    "    return output(dropped, 10)\n",
    "\n",
    "\n",
    "\"\"\"\n",
    "DON'T MODIFY ANYTHING IN THIS CELL THAT IS BELOW THIS LINE\n",
    "\"\"\"\n",
    "\n",
    "##############################\n",
    "## Build the Neural Network ##\n",
    "##############################\n",
    "\n",
    "# Remove previous weights, bias, inputs, etc..\n",
    "tf.reset_default_graph()\n",
    "\n",
    "# Inputs\n",
    "x = neural_net_image_input((32, 32, 3))\n",
    "y = neural_net_label_input(10)\n",
    "keep_prob = neural_net_keep_prob_input()\n",
    "\n",
    "# Model\n",
    "logits = conv_net(x, keep_prob)\n",
    "\n",
    "# Name logits Tensor, so that is can be loaded from disk after training\n",
    "logits = tf.identity(logits, name='logits')\n",
    "\n",
    "# Loss and Optimizer\n",
    "cost = tf.reduce_mean(tf.nn.softmax_cross_entropy_with_logits(logits=logits, labels=y))\n",
    "optimizer = tf.train.AdamOptimizer().minimize(cost)\n",
    "\n",
    "# Accuracy\n",
    "correct_pred = tf.equal(tf.argmax(logits, 1), tf.argmax(y, 1))\n",
    "accuracy = tf.reduce_mean(tf.cast(correct_pred, tf.float32), name='accuracy')\n",
    "\n",
    "tests.test_conv_net(conv_net)"
   ]
  },
  {
   "cell_type": "markdown",
   "metadata": {},
   "source": [
    "## Train the Neural Network\n",
    "### Single Optimization\n",
    "Implement the function `train_neural_network` to do a single optimization.  The optimization should use `optimizer` to optimize in `session` with a `feed_dict` of the following:\n",
    "* `x` for image input\n",
    "* `y` for labels\n",
    "* `keep_prob` for keep probability for dropout\n",
    "\n",
    "This function will be called for each batch, so `tf.global_variables_initializer()` has already been called.\n",
    "\n",
    "Note: Nothing needs to be returned. This function is only optimizing the neural network."
   ]
  },
  {
   "cell_type": "code",
   "execution_count": 9,
   "metadata": {},
   "outputs": [
    {
     "name": "stdout",
     "output_type": "stream",
     "text": [
      "Tests Passed\n"
     ]
    }
   ],
   "source": [
    "def train_neural_network(session, optimizer, keep_probability, feature_batch, label_batch):\n",
    "    \"\"\"\n",
    "    Optimize the session on a batch of images and labels\n",
    "    : session: Current TensorFlow session\n",
    "    : optimizer: TensorFlow optimizer function\n",
    "    : keep_probability: keep probability\n",
    "    : feature_batch: Batch of Numpy image data\n",
    "    : label_batch: Batch of Numpy label data\n",
    "    \"\"\"\n",
    "\n",
    "    session.run(optimizer, feed_dict = {\n",
    "        x: feature_batch,\n",
    "        y: label_batch,\n",
    "        keep_prob: keep_probability\n",
    "    })\n",
    "    \n",
    "\n",
    "\n",
    "\"\"\"\n",
    "DON'T MODIFY ANYTHING IN THIS CELL THAT IS BELOW THIS LINE\n",
    "\"\"\"\n",
    "tests.test_train_nn(train_neural_network)"
   ]
  },
  {
   "cell_type": "markdown",
   "metadata": {},
   "source": [
    "### Show Stats\n",
    "Implement the function `print_stats` to print loss and validation accuracy.  Use the global variables `valid_features` and `valid_labels` to calculate validation accuracy.  Use a keep probability of `1.0` to calculate the loss and validation accuracy."
   ]
  },
  {
   "cell_type": "code",
   "execution_count": 10,
   "metadata": {
    "collapsed": true
   },
   "outputs": [],
   "source": [
    "def print_stats(session, feature_batch, label_batch, cost, accuracy):\n",
    "    \"\"\"\n",
    "    Print information about loss and validation accuracy\n",
    "    : session: Current TensorFlow session\n",
    "    : feature_batch: Batch of Numpy image data\n",
    "    : label_batch: Batch of Numpy label data\n",
    "    : cost: TensorFlow cost function\n",
    "    : accuracy: TensorFlow accuracy function\n",
    "    \"\"\"\n",
    "\n",
    "    loss = session.run(cost, feed_dict = {\n",
    "        x: feature_batch,\n",
    "        y: label_batch,\n",
    "        keep_prob: 1\n",
    "    })\n",
    "    \n",
    "    valid_acc = session.run(accuracy, feed_dict = {\n",
    "        x: valid_features,\n",
    "        y: valid_labels,\n",
    "        keep_prob: 1\n",
    "    })\n",
    "    \n",
    "    print('Loss: {:>10.4f} Validation Accuracy: {:.6f}'.format(\n",
    "                loss,\n",
    "                valid_acc))\n",
    "    "
   ]
  },
  {
   "cell_type": "markdown",
   "metadata": {},
   "source": [
    "### Hyperparameters\n",
    "Tune the following parameters:\n",
    "* Set `epochs` to the number of iterations until the network stops learning or start overfitting\n",
    "* Set `batch_size` to the highest number that your machine has memory for.  Most people set them to common sizes of memory:\n",
    " * 64\n",
    " * 128\n",
    " * 256\n",
    " * ...\n",
    "* Set `keep_probability` to the probability of keeping a node using dropout"
   ]
  },
  {
   "cell_type": "code",
   "execution_count": 12,
   "metadata": {
    "collapsed": true
   },
   "outputs": [],
   "source": [
    "# TODO: Tune Parameters\n",
    "epochs = 200\n",
    "batch_size = 256\n",
    "keep_probability = 0.5"
   ]
  },
  {
   "cell_type": "markdown",
   "metadata": {},
   "source": [
    "### Train on a Single CIFAR-10 Batch\n",
    "Instead of training the neural network on all the CIFAR-10 batches of data, let's use a single batch. This should save time while you iterate on the model to get a better accuracy.  Once the final validation accuracy is 50% or greater, run the model on all the data in the next section."
   ]
  },
  {
   "cell_type": "code",
   "execution_count": 13,
   "metadata": {},
   "outputs": [
    {
     "name": "stdout",
     "output_type": "stream",
     "text": [
      "Checking the Training on a Single Batch...\n",
      "Epoch  1, CIFAR-10 Batch 1:  Loss:     2.2750 Validation Accuracy: 0.120000\n",
      "Epoch  2, CIFAR-10 Batch 1:  Loss:     2.1836 Validation Accuracy: 0.226400\n",
      "Epoch  3, CIFAR-10 Batch 1:  Loss:     2.1508 Validation Accuracy: 0.209400\n",
      "Epoch  4, CIFAR-10 Batch 1:  Loss:     2.1609 Validation Accuracy: 0.227400\n",
      "Epoch  5, CIFAR-10 Batch 1:  Loss:     2.0991 Validation Accuracy: 0.274400\n",
      "Epoch  6, CIFAR-10 Batch 1:  Loss:     2.0626 Validation Accuracy: 0.292800\n",
      "Epoch  7, CIFAR-10 Batch 1:  Loss:     2.0220 Validation Accuracy: 0.322600\n",
      "Epoch  8, CIFAR-10 Batch 1:  Loss:     2.0036 Validation Accuracy: 0.337400\n",
      "Epoch  9, CIFAR-10 Batch 1:  Loss:     1.9660 Validation Accuracy: 0.294400\n",
      "Epoch 10, CIFAR-10 Batch 1:  Loss:     1.9373 Validation Accuracy: 0.315200\n",
      "Epoch 11, CIFAR-10 Batch 1:  Loss:     1.9055 Validation Accuracy: 0.342200\n",
      "Epoch 12, CIFAR-10 Batch 1:  Loss:     1.9032 Validation Accuracy: 0.333200\n",
      "Epoch 13, CIFAR-10 Batch 1:  Loss:     1.8765 Validation Accuracy: 0.349200\n",
      "Epoch 14, CIFAR-10 Batch 1:  Loss:     1.8699 Validation Accuracy: 0.318600\n",
      "Epoch 15, CIFAR-10 Batch 1:  Loss:     1.8283 Validation Accuracy: 0.347200\n",
      "Epoch 16, CIFAR-10 Batch 1:  Loss:     1.8247 Validation Accuracy: 0.347800\n",
      "Epoch 17, CIFAR-10 Batch 1:  Loss:     1.8103 Validation Accuracy: 0.351000\n",
      "Epoch 18, CIFAR-10 Batch 1:  Loss:     1.7739 Validation Accuracy: 0.361400\n",
      "Epoch 19, CIFAR-10 Batch 1:  Loss:     1.7658 Validation Accuracy: 0.364800\n",
      "Epoch 20, CIFAR-10 Batch 1:  Loss:     1.7624 Validation Accuracy: 0.363400\n",
      "Epoch 21, CIFAR-10 Batch 1:  Loss:     1.7417 Validation Accuracy: 0.357400\n",
      "Epoch 22, CIFAR-10 Batch 1:  Loss:     1.7112 Validation Accuracy: 0.373200\n",
      "Epoch 23, CIFAR-10 Batch 1:  Loss:     1.7324 Validation Accuracy: 0.358000\n",
      "Epoch 24, CIFAR-10 Batch 1:  Loss:     1.6779 Validation Accuracy: 0.376200\n",
      "Epoch 25, CIFAR-10 Batch 1:  Loss:     1.6605 Validation Accuracy: 0.365800\n",
      "Epoch 26, CIFAR-10 Batch 1:  Loss:     1.6546 Validation Accuracy: 0.364800\n",
      "Epoch 27, CIFAR-10 Batch 1:  Loss:     1.6659 Validation Accuracy: 0.376600\n",
      "Epoch 28, CIFAR-10 Batch 1:  Loss:     1.6398 Validation Accuracy: 0.387200\n",
      "Epoch 29, CIFAR-10 Batch 1:  Loss:     1.6454 Validation Accuracy: 0.366000\n",
      "Epoch 30, CIFAR-10 Batch 1:  Loss:     1.6073 Validation Accuracy: 0.388800\n",
      "Epoch 31, CIFAR-10 Batch 1:  Loss:     1.5920 Validation Accuracy: 0.387000\n",
      "Epoch 32, CIFAR-10 Batch 1:  Loss:     1.5927 Validation Accuracy: 0.384400\n",
      "Epoch 33, CIFAR-10 Batch 1:  Loss:     1.5753 Validation Accuracy: 0.380400\n",
      "Epoch 34, CIFAR-10 Batch 1:  Loss:     1.5522 Validation Accuracy: 0.391000\n",
      "Epoch 35, CIFAR-10 Batch 1:  Loss:     1.5643 Validation Accuracy: 0.382800\n",
      "Epoch 36, CIFAR-10 Batch 1:  Loss:     1.5218 Validation Accuracy: 0.397600\n",
      "Epoch 37, CIFAR-10 Batch 1:  Loss:     1.5363 Validation Accuracy: 0.372000\n",
      "Epoch 38, CIFAR-10 Batch 1:  Loss:     1.4974 Validation Accuracy: 0.406600\n",
      "Epoch 39, CIFAR-10 Batch 1:  Loss:     1.5166 Validation Accuracy: 0.389000\n",
      "Epoch 40, CIFAR-10 Batch 1:  Loss:     1.5232 Validation Accuracy: 0.383200\n",
      "Epoch 41, CIFAR-10 Batch 1:  Loss:     1.5273 Validation Accuracy: 0.397600\n",
      "Epoch 42, CIFAR-10 Batch 1:  Loss:     1.4645 Validation Accuracy: 0.414800\n",
      "Epoch 43, CIFAR-10 Batch 1:  Loss:     1.4385 Validation Accuracy: 0.412000\n",
      "Epoch 44, CIFAR-10 Batch 1:  Loss:     1.4395 Validation Accuracy: 0.415800\n",
      "Epoch 45, CIFAR-10 Batch 1:  Loss:     1.4589 Validation Accuracy: 0.414400\n",
      "Epoch 46, CIFAR-10 Batch 1:  Loss:     1.4383 Validation Accuracy: 0.416400\n",
      "Epoch 47, CIFAR-10 Batch 1:  Loss:     1.4189 Validation Accuracy: 0.423400\n",
      "Epoch 48, CIFAR-10 Batch 1:  Loss:     1.3995 Validation Accuracy: 0.419600\n",
      "Epoch 49, CIFAR-10 Batch 1:  Loss:     1.3997 Validation Accuracy: 0.419200\n",
      "Epoch 50, CIFAR-10 Batch 1:  Loss:     1.4141 Validation Accuracy: 0.418000\n",
      "Epoch 51, CIFAR-10 Batch 1:  Loss:     1.4489 Validation Accuracy: 0.411400\n",
      "Epoch 52, CIFAR-10 Batch 1:  Loss:     1.3668 Validation Accuracy: 0.432400\n",
      "Epoch 53, CIFAR-10 Batch 1:  Loss:     1.3699 Validation Accuracy: 0.432200\n",
      "Epoch 54, CIFAR-10 Batch 1:  Loss:     1.3758 Validation Accuracy: 0.421000\n",
      "Epoch 55, CIFAR-10 Batch 1:  Loss:     1.3711 Validation Accuracy: 0.413600\n",
      "Epoch 56, CIFAR-10 Batch 1:  Loss:     1.3428 Validation Accuracy: 0.430200\n",
      "Epoch 57, CIFAR-10 Batch 1:  Loss:     1.3549 Validation Accuracy: 0.430800\n",
      "Epoch 58, CIFAR-10 Batch 1:  Loss:     1.3190 Validation Accuracy: 0.429200\n",
      "Epoch 59, CIFAR-10 Batch 1:  Loss:     1.3558 Validation Accuracy: 0.422000\n",
      "Epoch 60, CIFAR-10 Batch 1:  Loss:     1.3262 Validation Accuracy: 0.431200\n",
      "Epoch 61, CIFAR-10 Batch 1:  Loss:     1.3044 Validation Accuracy: 0.433400\n",
      "Epoch 62, CIFAR-10 Batch 1:  Loss:     1.3213 Validation Accuracy: 0.427800\n",
      "Epoch 63, CIFAR-10 Batch 1:  Loss:     1.2581 Validation Accuracy: 0.450600\n",
      "Epoch 64, CIFAR-10 Batch 1:  Loss:     1.2659 Validation Accuracy: 0.448600\n",
      "Epoch 65, CIFAR-10 Batch 1:  Loss:     1.2883 Validation Accuracy: 0.434200\n",
      "Epoch 66, CIFAR-10 Batch 1:  Loss:     1.2206 Validation Accuracy: 0.459400\n",
      "Epoch 67, CIFAR-10 Batch 1:  Loss:     1.2153 Validation Accuracy: 0.454800\n",
      "Epoch 68, CIFAR-10 Batch 1:  Loss:     1.2017 Validation Accuracy: 0.456600\n",
      "Epoch 69, CIFAR-10 Batch 1:  Loss:     1.1923 Validation Accuracy: 0.456800\n",
      "Epoch 70, CIFAR-10 Batch 1:  Loss:     1.1835 Validation Accuracy: 0.461200\n",
      "Epoch 71, CIFAR-10 Batch 1:  Loss:     1.1589 Validation Accuracy: 0.465600\n",
      "Epoch 72, CIFAR-10 Batch 1:  Loss:     1.1563 Validation Accuracy: 0.467200\n",
      "Epoch 73, CIFAR-10 Batch 1:  Loss:     1.1810 Validation Accuracy: 0.457600\n",
      "Epoch 74, CIFAR-10 Batch 1:  Loss:     1.1425 Validation Accuracy: 0.457400\n",
      "Epoch 75, CIFAR-10 Batch 1:  Loss:     1.1197 Validation Accuracy: 0.469000\n",
      "Epoch 76, CIFAR-10 Batch 1:  Loss:     1.1073 Validation Accuracy: 0.473600\n",
      "Epoch 77, CIFAR-10 Batch 1:  Loss:     1.0853 Validation Accuracy: 0.474200\n",
      "Epoch 78, CIFAR-10 Batch 1:  Loss:     1.0873 Validation Accuracy: 0.472000\n",
      "Epoch 79, CIFAR-10 Batch 1:  Loss:     1.1346 Validation Accuracy: 0.457600\n",
      "Epoch 80, CIFAR-10 Batch 1:  Loss:     1.0830 Validation Accuracy: 0.472400\n",
      "Epoch 81, CIFAR-10 Batch 1:  Loss:     1.0882 Validation Accuracy: 0.469000\n",
      "Epoch 82, CIFAR-10 Batch 1:  Loss:     1.0953 Validation Accuracy: 0.467400\n",
      "Epoch 83, CIFAR-10 Batch 1:  Loss:     1.0578 Validation Accuracy: 0.478800\n",
      "Epoch 84, CIFAR-10 Batch 1:  Loss:     1.0386 Validation Accuracy: 0.477400\n",
      "Epoch 85, CIFAR-10 Batch 1:  Loss:     1.0177 Validation Accuracy: 0.481800\n",
      "Epoch 86, CIFAR-10 Batch 1:  Loss:     1.0359 Validation Accuracy: 0.473800\n",
      "Epoch 87, CIFAR-10 Batch 1:  Loss:     1.0365 Validation Accuracy: 0.475000\n",
      "Epoch 88, CIFAR-10 Batch 1:  Loss:     1.0120 Validation Accuracy: 0.476400\n",
      "Epoch 89, CIFAR-10 Batch 1:  Loss:     0.9824 Validation Accuracy: 0.483800\n",
      "Epoch 90, CIFAR-10 Batch 1:  Loss:     0.9879 Validation Accuracy: 0.486400\n",
      "Epoch 91, CIFAR-10 Batch 1:  Loss:     0.9797 Validation Accuracy: 0.474800\n",
      "Epoch 92, CIFAR-10 Batch 1:  Loss:     0.9639 Validation Accuracy: 0.487600\n",
      "Epoch 93, CIFAR-10 Batch 1:  Loss:     0.9704 Validation Accuracy: 0.479200\n",
      "Epoch 94, CIFAR-10 Batch 1:  Loss:     0.9542 Validation Accuracy: 0.495400\n",
      "Epoch 95, CIFAR-10 Batch 1:  Loss:     0.9731 Validation Accuracy: 0.483800\n",
      "Epoch 96, CIFAR-10 Batch 1:  Loss:     0.9552 Validation Accuracy: 0.485200\n",
      "Epoch 97, CIFAR-10 Batch 1:  Loss:     0.9394 Validation Accuracy: 0.482600\n",
      "Epoch 98, CIFAR-10 Batch 1:  Loss:     0.9204 Validation Accuracy: 0.486000\n",
      "Epoch 99, CIFAR-10 Batch 1:  Loss:     0.9266 Validation Accuracy: 0.486000\n",
      "Epoch 100, CIFAR-10 Batch 1:  Loss:     0.9422 Validation Accuracy: 0.486000\n",
      "Epoch 101, CIFAR-10 Batch 1:  Loss:     0.9198 Validation Accuracy: 0.488000\n",
      "Epoch 102, CIFAR-10 Batch 1:  Loss:     0.9100 Validation Accuracy: 0.475400\n",
      "Epoch 103, CIFAR-10 Batch 1:  Loss:     0.8959 Validation Accuracy: 0.485600\n",
      "Epoch 104, CIFAR-10 Batch 1:  Loss:     0.9092 Validation Accuracy: 0.474800\n",
      "Epoch 105, CIFAR-10 Batch 1:  Loss:     0.9365 Validation Accuracy: 0.470200\n",
      "Epoch 106, CIFAR-10 Batch 1:  Loss:     0.8863 Validation Accuracy: 0.485600\n",
      "Epoch 107, CIFAR-10 Batch 1:  Loss:     0.8718 Validation Accuracy: 0.487400\n",
      "Epoch 108, CIFAR-10 Batch 1:  Loss:     0.9050 Validation Accuracy: 0.476600\n",
      "Epoch 109, CIFAR-10 Batch 1:  Loss:     0.9079 Validation Accuracy: 0.484800\n",
      "Epoch 110, CIFAR-10 Batch 1:  Loss:     0.8605 Validation Accuracy: 0.496200\n",
      "Epoch 111, CIFAR-10 Batch 1:  Loss:     0.8707 Validation Accuracy: 0.492000\n",
      "Epoch 112, CIFAR-10 Batch 1:  Loss:     0.8927 Validation Accuracy: 0.492400\n",
      "Epoch 113, CIFAR-10 Batch 1:  Loss:     0.9304 Validation Accuracy: 0.496400\n",
      "Epoch 114, CIFAR-10 Batch 1:  Loss:     0.8505 Validation Accuracy: 0.498800\n",
      "Epoch 115, CIFAR-10 Batch 1:  Loss:     0.8481 Validation Accuracy: 0.489200\n",
      "Epoch 116, CIFAR-10 Batch 1:  Loss:     0.8421 Validation Accuracy: 0.494200\n",
      "Epoch 117, CIFAR-10 Batch 1:  Loss:     0.8390 Validation Accuracy: 0.494600\n",
      "Epoch 118, CIFAR-10 Batch 1:  Loss:     0.8306 Validation Accuracy: 0.504200\n",
      "Epoch 119, CIFAR-10 Batch 1:  Loss:     0.8249 Validation Accuracy: 0.506800\n",
      "Epoch 120, CIFAR-10 Batch 1:  Loss:     0.8385 Validation Accuracy: 0.497000\n",
      "Epoch 121, CIFAR-10 Batch 1:  Loss:     0.8351 Validation Accuracy: 0.492800\n",
      "Epoch 122, CIFAR-10 Batch 1:  Loss:     0.8244 Validation Accuracy: 0.504400\n",
      "Epoch 123, CIFAR-10 Batch 1:  Loss:     0.7916 Validation Accuracy: 0.505800\n",
      "Epoch 124, CIFAR-10 Batch 1:  Loss:     0.8182 Validation Accuracy: 0.501800\n",
      "Epoch 125, CIFAR-10 Batch 1:  Loss:     0.7952 Validation Accuracy: 0.500400\n",
      "Epoch 126, CIFAR-10 Batch 1:  Loss:     0.7994 Validation Accuracy: 0.490000\n",
      "Epoch 127, CIFAR-10 Batch 1:  Loss:     0.7804 Validation Accuracy: 0.496400\n",
      "Epoch 128, CIFAR-10 Batch 1:  Loss:     0.8109 Validation Accuracy: 0.488400\n",
      "Epoch 129, CIFAR-10 Batch 1:  Loss:     0.7705 Validation Accuracy: 0.506400\n",
      "Epoch 130, CIFAR-10 Batch 1:  Loss:     0.7707 Validation Accuracy: 0.498800\n",
      "Epoch 131, CIFAR-10 Batch 1:  Loss:     0.7693 Validation Accuracy: 0.494200\n",
      "Epoch 132, CIFAR-10 Batch 1:  Loss:     0.7559 Validation Accuracy: 0.503800\n",
      "Epoch 133, CIFAR-10 Batch 1:  Loss:     0.7564 Validation Accuracy: 0.501400\n",
      "Epoch 134, CIFAR-10 Batch 1:  Loss:     0.7518 Validation Accuracy: 0.497400\n",
      "Epoch 135, CIFAR-10 Batch 1:  Loss:     0.7406 Validation Accuracy: 0.503400\n",
      "Epoch 136, CIFAR-10 Batch 1:  Loss:     0.7380 Validation Accuracy: 0.497200\n",
      "Epoch 137, CIFAR-10 Batch 1:  Loss:     0.7302 Validation Accuracy: 0.503400\n",
      "Epoch 138, CIFAR-10 Batch 1:  Loss:     0.7490 Validation Accuracy: 0.504200\n",
      "Epoch 139, CIFAR-10 Batch 1:  Loss:     0.7160 Validation Accuracy: 0.500600\n",
      "Epoch 140, CIFAR-10 Batch 1:  Loss:     0.7477 Validation Accuracy: 0.493400\n",
      "Epoch 141, CIFAR-10 Batch 1:  Loss:     0.7269 Validation Accuracy: 0.504600\n",
      "Epoch 142, CIFAR-10 Batch 1:  Loss:     0.7199 Validation Accuracy: 0.506200\n",
      "Epoch 143, CIFAR-10 Batch 1:  Loss:     0.7181 Validation Accuracy: 0.500600\n",
      "Epoch 144, CIFAR-10 Batch 1:  Loss:     0.7289 Validation Accuracy: 0.503200\n",
      "Epoch 145, CIFAR-10 Batch 1:  Loss:     0.6962 Validation Accuracy: 0.503600\n",
      "Epoch 146, CIFAR-10 Batch 1:  Loss:     0.6915 Validation Accuracy: 0.502200\n",
      "Epoch 147, CIFAR-10 Batch 1:  Loss:     0.6912 Validation Accuracy: 0.508800\n",
      "Epoch 148, CIFAR-10 Batch 1:  Loss:     0.6680 Validation Accuracy: 0.510200\n",
      "Epoch 149, CIFAR-10 Batch 1:  Loss:     0.6774 Validation Accuracy: 0.515600\n",
      "Epoch 150, CIFAR-10 Batch 1:  Loss:     0.6901 Validation Accuracy: 0.502000\n",
      "Epoch 151, CIFAR-10 Batch 1:  Loss:     0.7085 Validation Accuracy: 0.497400\n",
      "Epoch 152, CIFAR-10 Batch 1:  Loss:     0.7092 Validation Accuracy: 0.485200\n",
      "Epoch 153, CIFAR-10 Batch 1:  Loss:     0.6607 Validation Accuracy: 0.493200\n",
      "Epoch 154, CIFAR-10 Batch 1:  Loss:     0.6904 Validation Accuracy: 0.501400\n",
      "Epoch 155, CIFAR-10 Batch 1:  Loss:     0.6727 Validation Accuracy: 0.501400\n",
      "Epoch 156, CIFAR-10 Batch 1:  Loss:     0.7132 Validation Accuracy: 0.495000\n",
      "Epoch 157, CIFAR-10 Batch 1:  Loss:     0.6503 Validation Accuracy: 0.513600\n",
      "Epoch 158, CIFAR-10 Batch 1:  Loss:     0.6530 Validation Accuracy: 0.506600\n",
      "Epoch 159, CIFAR-10 Batch 1:  Loss:     0.6402 Validation Accuracy: 0.508800\n",
      "Epoch 160, CIFAR-10 Batch 1:  Loss:     0.6518 Validation Accuracy: 0.499000\n",
      "Epoch 161, CIFAR-10 Batch 1:  Loss:     0.6496 Validation Accuracy: 0.501800\n",
      "Epoch 162, CIFAR-10 Batch 1:  Loss:     0.6382 Validation Accuracy: 0.511400\n",
      "Epoch 163, CIFAR-10 Batch 1:  Loss:     0.6640 Validation Accuracy: 0.502800\n",
      "Epoch 164, CIFAR-10 Batch 1:  Loss:     0.6211 Validation Accuracy: 0.511200\n",
      "Epoch 165, CIFAR-10 Batch 1:  Loss:     0.6265 Validation Accuracy: 0.510000\n",
      "Epoch 166, CIFAR-10 Batch 1:  Loss:     0.6288 Validation Accuracy: 0.502000\n",
      "Epoch 167, CIFAR-10 Batch 1:  Loss:     0.6386 Validation Accuracy: 0.494400\n",
      "Epoch 168, CIFAR-10 Batch 1:  Loss:     0.6363 Validation Accuracy: 0.503800\n",
      "Epoch 169, CIFAR-10 Batch 1:  Loss:     0.6228 Validation Accuracy: 0.511000\n",
      "Epoch 170, CIFAR-10 Batch 1:  Loss:     0.6314 Validation Accuracy: 0.500000\n",
      "Epoch 171, CIFAR-10 Batch 1:  Loss:     0.6114 Validation Accuracy: 0.500800\n",
      "Epoch 172, CIFAR-10 Batch 1:  Loss:     0.6242 Validation Accuracy: 0.502800\n",
      "Epoch 173, CIFAR-10 Batch 1:  Loss:     0.6150 Validation Accuracy: 0.507800\n",
      "Epoch 174, CIFAR-10 Batch 1:  Loss:     0.6133 Validation Accuracy: 0.509800\n",
      "Epoch 175, CIFAR-10 Batch 1:  Loss:     0.6332 Validation Accuracy: 0.499800\n",
      "Epoch 176, CIFAR-10 Batch 1:  Loss:     0.6316 Validation Accuracy: 0.506000\n",
      "Epoch 177, CIFAR-10 Batch 1:  Loss:     0.6121 Validation Accuracy: 0.504000\n",
      "Epoch 178, CIFAR-10 Batch 1:  Loss:     0.6374 Validation Accuracy: 0.497800\n",
      "Epoch 179, CIFAR-10 Batch 1:  Loss:     0.6072 Validation Accuracy: 0.507800\n",
      "Epoch 180, CIFAR-10 Batch 1:  Loss:     0.6001 Validation Accuracy: 0.500800\n",
      "Epoch 181, CIFAR-10 Batch 1:  Loss:     0.6029 Validation Accuracy: 0.502800\n",
      "Epoch 182, CIFAR-10 Batch 1:  Loss:     0.6017 Validation Accuracy: 0.495800\n",
      "Epoch 183, CIFAR-10 Batch 1:  Loss:     0.5866 Validation Accuracy: 0.501800\n",
      "Epoch 184, CIFAR-10 Batch 1:  Loss:     0.5864 Validation Accuracy: 0.496600\n",
      "Epoch 185, CIFAR-10 Batch 1:  Loss:     0.6078 Validation Accuracy: 0.494600\n",
      "Epoch 186, CIFAR-10 Batch 1:  Loss:     0.6053 Validation Accuracy: 0.483000\n",
      "Epoch 187, CIFAR-10 Batch 1:  Loss:     0.6101 Validation Accuracy: 0.488400\n",
      "Epoch 188, CIFAR-10 Batch 1:  Loss:     0.6088 Validation Accuracy: 0.487000\n",
      "Epoch 189, CIFAR-10 Batch 1:  Loss:     0.6087 Validation Accuracy: 0.481200\n",
      "Epoch 190, CIFAR-10 Batch 1:  Loss:     0.6188 Validation Accuracy: 0.487800\n",
      "Epoch 191, CIFAR-10 Batch 1:  Loss:     0.5912 Validation Accuracy: 0.497400\n",
      "Epoch 192, CIFAR-10 Batch 1:  Loss:     0.5831 Validation Accuracy: 0.492600\n",
      "Epoch 193, CIFAR-10 Batch 1:  Loss:     0.5802 Validation Accuracy: 0.501000\n",
      "Epoch 194, CIFAR-10 Batch 1:  Loss:     0.5821 Validation Accuracy: 0.512600\n",
      "Epoch 195, CIFAR-10 Batch 1:  Loss:     0.5654 Validation Accuracy: 0.507400\n",
      "Epoch 196, CIFAR-10 Batch 1:  Loss:     0.5739 Validation Accuracy: 0.510200\n",
      "Epoch 197, CIFAR-10 Batch 1:  Loss:     0.5601 Validation Accuracy: 0.509600\n",
      "Epoch 198, CIFAR-10 Batch 1:  Loss:     0.5621 Validation Accuracy: 0.510000\n",
      "Epoch 199, CIFAR-10 Batch 1:  Loss:     0.5553 Validation Accuracy: 0.503400\n",
      "Epoch 200, CIFAR-10 Batch 1:  Loss:     0.5680 Validation Accuracy: 0.512400\n"
     ]
    }
   ],
   "source": [
    "\"\"\"\n",
    "DON'T MODIFY ANYTHING IN THIS CELL\n",
    "\"\"\"\n",
    "print('Checking the Training on a Single Batch...')\n",
    "with tf.Session() as sess:\n",
    "    # Initializing the variables\n",
    "    sess.run(tf.global_variables_initializer())\n",
    "    \n",
    "    # Training cycle\n",
    "    for epoch in range(epochs):\n",
    "        batch_i = 1\n",
    "        for batch_features, batch_labels in helper.load_preprocess_training_batch(batch_i, batch_size):\n",
    "            train_neural_network(sess, optimizer, keep_probability, batch_features, batch_labels)\n",
    "        print('Epoch {:>2}, CIFAR-10 Batch {}:  '.format(epoch + 1, batch_i), end='')\n",
    "        print_stats(sess, batch_features, batch_labels, cost, accuracy)"
   ]
  },
  {
   "cell_type": "markdown",
   "metadata": {},
   "source": [
    "### Fully Train the Model\n",
    "Now that you got a good accuracy with a single CIFAR-10 batch, try it with all five batches."
   ]
  },
  {
   "cell_type": "code",
   "execution_count": null,
   "metadata": {
    "collapsed": true
   },
   "outputs": [],
   "source": [
    "\"\"\"\n",
    "DON'T MODIFY ANYTHING IN THIS CELL\n",
    "\"\"\"\n",
    "save_model_path = './image_classification'\n",
    "\n",
    "print('Training...')\n",
    "with tf.Session() as sess:\n",
    "    # Initializing the variables\n",
    "    sess.run(tf.global_variables_initializer())\n",
    "    \n",
    "    # Training cycle\n",
    "    for epoch in range(epochs):\n",
    "        # Loop over all batches\n",
    "        n_batches = 5\n",
    "        for batch_i in range(1, n_batches + 1):\n",
    "            for batch_features, batch_labels in helper.load_preprocess_training_batch(batch_i, batch_size):\n",
    "                train_neural_network(sess, optimizer, keep_probability, batch_features, batch_labels)\n",
    "            print('Epoch {:>2}, CIFAR-10 Batch {}:  '.format(epoch + 1, batch_i), end='')\n",
    "            print_stats(sess, batch_features, batch_labels, cost, accuracy)\n",
    "            \n",
    "    # Save Model\n",
    "    saver = tf.train.Saver()\n",
    "    save_path = saver.save(sess, save_model_path)"
   ]
  },
  {
   "cell_type": "markdown",
   "metadata": {},
   "source": [
    "# Checkpoint\n",
    "The model has been saved to disk.\n",
    "## Test Model\n",
    "Test your model against the test dataset.  This will be your final accuracy. You should have an accuracy greater than 50%. If you don't, keep tweaking the model architecture and parameters."
   ]
  },
  {
   "cell_type": "code",
   "execution_count": null,
   "metadata": {
    "collapsed": true
   },
   "outputs": [],
   "source": [
    "\"\"\"\n",
    "DON'T MODIFY ANYTHING IN THIS CELL\n",
    "\"\"\"\n",
    "%matplotlib inline\n",
    "%config InlineBackend.figure_format = 'retina'\n",
    "\n",
    "import tensorflow as tf\n",
    "import pickle\n",
    "import helper\n",
    "import random\n",
    "\n",
    "# Set batch size if not already set\n",
    "try:\n",
    "    if batch_size:\n",
    "        pass\n",
    "except NameError:\n",
    "    batch_size = 64\n",
    "\n",
    "save_model_path = './image_classification'\n",
    "n_samples = 4\n",
    "top_n_predictions = 3\n",
    "\n",
    "def test_model():\n",
    "    \"\"\"\n",
    "    Test the saved model against the test dataset\n",
    "    \"\"\"\n",
    "\n",
    "    test_features, test_labels = pickle.load(open('preprocess_test.p', mode='rb'))\n",
    "    loaded_graph = tf.Graph()\n",
    "\n",
    "    with tf.Session(graph=loaded_graph) as sess:\n",
    "        # Load model\n",
    "        loader = tf.train.import_meta_graph(save_model_path + '.meta')\n",
    "        loader.restore(sess, save_model_path)\n",
    "\n",
    "        # Get Tensors from loaded model\n",
    "        loaded_x = loaded_graph.get_tensor_by_name('x:0')\n",
    "        loaded_y = loaded_graph.get_tensor_by_name('y:0')\n",
    "        loaded_keep_prob = loaded_graph.get_tensor_by_name('keep_prob:0')\n",
    "        loaded_logits = loaded_graph.get_tensor_by_name('logits:0')\n",
    "        loaded_acc = loaded_graph.get_tensor_by_name('accuracy:0')\n",
    "        \n",
    "        # Get accuracy in batches for memory limitations\n",
    "        test_batch_acc_total = 0\n",
    "        test_batch_count = 0\n",
    "        \n",
    "        for test_feature_batch, test_label_batch in helper.batch_features_labels(test_features, test_labels, batch_size):\n",
    "            test_batch_acc_total += sess.run(\n",
    "                loaded_acc,\n",
    "                feed_dict={loaded_x: test_feature_batch, loaded_y: test_label_batch, loaded_keep_prob: 1.0})\n",
    "            test_batch_count += 1\n",
    "\n",
    "        print('Testing Accuracy: {}\\n'.format(test_batch_acc_total/test_batch_count))\n",
    "\n",
    "        # Print Random Samples\n",
    "        random_test_features, random_test_labels = tuple(zip(*random.sample(list(zip(test_features, test_labels)), n_samples)))\n",
    "        random_test_predictions = sess.run(\n",
    "            tf.nn.top_k(tf.nn.softmax(loaded_logits), top_n_predictions),\n",
    "            feed_dict={loaded_x: random_test_features, loaded_y: random_test_labels, loaded_keep_prob: 1.0})\n",
    "        helper.display_image_predictions(random_test_features, random_test_labels, random_test_predictions)\n",
    "\n",
    "\n",
    "test_model()"
   ]
  },
  {
   "cell_type": "markdown",
   "metadata": {},
   "source": [
    "## Why 50-80% Accuracy?\n",
    "You might be wondering why you can't get an accuracy any higher. First things first, 50% isn't bad for a simple CNN.  Pure guessing would get you 10% accuracy. However, you might notice people are getting scores [well above 80%](http://rodrigob.github.io/are_we_there_yet/build/classification_datasets_results.html#43494641522d3130).  That's because we haven't taught you all there is to know about neural networks. We still need to cover a few more techniques.\n",
    "## Submitting This Project\n",
    "When submitting this project, make sure to run all the cells before saving the notebook.  Save the notebook file as \"dlnd_image_classification.ipynb\" and save it as a HTML file under \"File\" -> \"Download as\".  Include the \"helper.py\" and \"problem_unittests.py\" files in your submission."
   ]
  }
 ],
 "metadata": {
  "kernelspec": {
   "display_name": "Python 3",
   "language": "python",
   "name": "python3"
  },
  "language_info": {
   "codemirror_mode": {
    "name": "ipython",
    "version": 3
   },
   "file_extension": ".py",
   "mimetype": "text/x-python",
   "name": "python",
   "nbconvert_exporter": "python",
   "pygments_lexer": "ipython3",
   "version": "3.5.3"
  }
 },
 "nbformat": 4,
 "nbformat_minor": 1
}
