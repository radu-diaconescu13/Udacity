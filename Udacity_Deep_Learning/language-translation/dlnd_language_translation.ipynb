{
 "cells": [
  {
   "cell_type": "markdown",
   "metadata": {
    "collapsed": true
   },
   "source": [
    "# Language Translation\n",
    "In this project, you’re going to take a peek into the realm of neural network machine translation.  You’ll be training a sequence to sequence model on a dataset of English and French sentences that can translate new sentences from English to French.\n",
    "## Get the Data\n",
    "Since translating the whole language of English to French will take lots of time to train, we have provided you with a small portion of the English corpus."
   ]
  },
  {
   "cell_type": "code",
   "execution_count": 1,
   "metadata": {},
   "outputs": [
    {
     "ename": "ImportError",
     "evalue": "No module named 'tensorflow.python.layers'",
     "output_type": "error",
     "traceback": [
      "\u001b[1;31m---------------------------------------------------------------------------\u001b[0m",
      "\u001b[1;31mImportError\u001b[0m                               Traceback (most recent call last)",
      "\u001b[1;32m<ipython-input-1-ec5ca37388cc>\u001b[0m in \u001b[0;36m<module>\u001b[1;34m()\u001b[0m\n\u001b[0;32m      3\u001b[0m \"\"\"\n\u001b[0;32m      4\u001b[0m \u001b[1;32mimport\u001b[0m \u001b[0mhelper\u001b[0m\u001b[1;33m\u001b[0m\u001b[0m\n\u001b[1;32m----> 5\u001b[1;33m \u001b[1;32mimport\u001b[0m \u001b[0mproblem_unittests\u001b[0m \u001b[1;32mas\u001b[0m \u001b[0mtests\u001b[0m\u001b[1;33m\u001b[0m\u001b[0m\n\u001b[0m\u001b[0;32m      6\u001b[0m \u001b[1;33m\u001b[0m\u001b[0m\n\u001b[0;32m      7\u001b[0m \u001b[0msource_path\u001b[0m \u001b[1;33m=\u001b[0m \u001b[1;34m'data/small_vocab_en'\u001b[0m\u001b[1;33m\u001b[0m\u001b[0m\n",
      "\u001b[1;32mD:\\work\\private_git\\Udacity_Deep_Learning\\language-translation\\problem_unittests.py\u001b[0m in \u001b[0;36m<module>\u001b[1;34m()\u001b[0m\n\u001b[0;32m      1\u001b[0m \u001b[1;32mimport\u001b[0m \u001b[0mnumpy\u001b[0m \u001b[1;32mas\u001b[0m \u001b[0mnp\u001b[0m\u001b[1;33m\u001b[0m\u001b[0m\n\u001b[0;32m      2\u001b[0m \u001b[1;32mimport\u001b[0m \u001b[0mtensorflow\u001b[0m \u001b[1;32mas\u001b[0m \u001b[0mtf\u001b[0m\u001b[1;33m\u001b[0m\u001b[0m\n\u001b[1;32m----> 3\u001b[1;33m \u001b[1;32mfrom\u001b[0m \u001b[0mtensorflow\u001b[0m\u001b[1;33m.\u001b[0m\u001b[0mpython\u001b[0m\u001b[1;33m.\u001b[0m\u001b[0mlayers\u001b[0m\u001b[1;33m.\u001b[0m\u001b[0mcore\u001b[0m \u001b[1;32mimport\u001b[0m \u001b[0mDense\u001b[0m\u001b[1;33m\u001b[0m\u001b[0m\n\u001b[0m\u001b[0;32m      4\u001b[0m \u001b[1;32mimport\u001b[0m \u001b[0mitertools\u001b[0m\u001b[1;33m\u001b[0m\u001b[0m\n\u001b[0;32m      5\u001b[0m \u001b[1;32mimport\u001b[0m \u001b[0mcollections\u001b[0m\u001b[1;33m\u001b[0m\u001b[0m\n",
      "\u001b[1;31mImportError\u001b[0m: No module named 'tensorflow.python.layers'"
     ]
    }
   ],
   "source": [
    "\"\"\"\n",
    "DON'T MODIFY ANYTHING IN THIS CELL\n",
    "\"\"\"\n",
    "import helper\n",
    "import problem_unittests as tests\n",
    "\n",
    "source_path = 'data/small_vocab_en'\n",
    "target_path = 'data/small_vocab_fr'\n",
    "source_text = helper.load_data(source_path)\n",
    "target_text = helper.load_data(target_path)"
   ]
  },
  {
   "cell_type": "markdown",
   "metadata": {},
   "source": [
    "## Explore the Data\n",
    "Play around with view_sentence_range to view different parts of the data."
   ]
  },
  {
   "cell_type": "code",
   "execution_count": 3,
   "metadata": {},
   "outputs": [
    {
     "name": "stdout",
     "output_type": "stream",
     "text": [
      "Dataset Stats\n",
      "Roughly the number of unique words: 227\n",
      "Number of sentences: 137861\n",
      "Average number of words in a sentence: 13.225277634719028\n",
      "\n",
      "English sentences 0 to 10:\n",
      "new jersey is sometimes quiet during autumn , and it is snowy in april .\n",
      "the united states is usually chilly during july , and it is usually freezing in november .\n",
      "california is usually quiet during march , and it is usually hot in june .\n",
      "the united states is sometimes mild during june , and it is cold in september .\n",
      "your least liked fruit is the grape , but my least liked is the apple .\n",
      "his favorite fruit is the orange , but my favorite is the grape .\n",
      "paris is relaxing during december , but it is usually chilly in july .\n",
      "new jersey is busy during spring , and it is never hot in march .\n",
      "our least liked fruit is the lemon , but my least liked is the grape .\n",
      "the united states is sometimes busy during january , and it is sometimes warm in november .\n",
      "\n",
      "French sentences 0 to 10:\n",
      "new jersey est parfois calme pendant l' automne , et il est neigeux en avril .\n",
      "les états-unis est généralement froid en juillet , et il gèle habituellement en novembre .\n",
      "california est généralement calme en mars , et il est généralement chaud en juin .\n",
      "les états-unis est parfois légère en juin , et il fait froid en septembre .\n",
      "votre moins aimé fruit est le raisin , mais mon moins aimé est la pomme .\n",
      "son fruit préféré est l'orange , mais mon préféré est le raisin .\n",
      "paris est relaxant en décembre , mais il est généralement froid en juillet .\n",
      "new jersey est occupé au printemps , et il est jamais chaude en mars .\n",
      "notre fruit est moins aimé le citron , mais mon moins aimé est le raisin .\n",
      "les états-unis est parfois occupé en janvier , et il est parfois chaud en novembre .\n"
     ]
    }
   ],
   "source": [
    "view_sentence_range = (0, 10)\n",
    "\n",
    "\"\"\"\n",
    "DON'T MODIFY ANYTHING IN THIS CELL\n",
    "\"\"\"\n",
    "import numpy as np\n",
    "\n",
    "print('Dataset Stats')\n",
    "print('Roughly the number of unique words: {}'.format(len({word: None for word in source_text.split()})))\n",
    "\n",
    "sentences = source_text.split('\\n')\n",
    "word_counts = [len(sentence.split()) for sentence in sentences]\n",
    "print('Number of sentences: {}'.format(len(sentences)))\n",
    "print('Average number of words in a sentence: {}'.format(np.average(word_counts)))\n",
    "\n",
    "print()\n",
    "print('English sentences {} to {}:'.format(*view_sentence_range))\n",
    "print('\\n'.join(source_text.split('\\n')[view_sentence_range[0]:view_sentence_range[1]]))\n",
    "print()\n",
    "print('French sentences {} to {}:'.format(*view_sentence_range))\n",
    "print('\\n'.join(target_text.split('\\n')[view_sentence_range[0]:view_sentence_range[1]]))"
   ]
  },
  {
   "cell_type": "markdown",
   "metadata": {},
   "source": [
    "## Implement Preprocessing Function\n",
    "### Text to Word Ids\n",
    "As you did with other RNNs, you must turn the text into a number so the computer can understand it. In the function `text_to_ids()`, you'll turn `source_text` and `target_text` from words to ids.  However, you need to add the `<EOS>` word id at the end of `target_text`.  This will help the neural network predict when the sentence should end.\n",
    "\n",
    "You can get the `<EOS>` word id by doing:\n",
    "```python\n",
    "target_vocab_to_int['<EOS>']\n",
    "```\n",
    "You can get other word ids using `source_vocab_to_int` and `target_vocab_to_int`."
   ]
  },
  {
   "cell_type": "code",
   "execution_count": 4,
   "metadata": {},
   "outputs": [
    {
     "name": "stdout",
     "output_type": "stream",
     "text": [
      "Tests Passed\n"
     ]
    }
   ],
   "source": [
    "def text_to_ids(source_text, target_text, source_vocab_to_int, target_vocab_to_int):\n",
    "    \"\"\"\n",
    "    Convert source and target text to proper word ids\n",
    "    :param source_text: String that contains all the source text.\n",
    "    :param target_text: String that contains all the target text.\n",
    "    :param source_vocab_to_int: Dictionary to go from the source words to an id\n",
    "    :param target_vocab_to_int: Dictionary to go from the target words to an id\n",
    "    :return: A tuple of lists (source_id_text, target_id_text)\n",
    "    \"\"\"\n",
    "\n",
    " \n",
    "    source_id_text = [[source_vocab_to_int.get(letter, source_vocab_to_int['<UNK>']) for letter in line.split()] for line in source_text.split('\\n')]\n",
    "    \n",
    "    \n",
    "    target_letter_ids = [[target_vocab_to_int.get(letter, target_vocab_to_int['<UNK>']) for letter in line.split()] + [target_vocab_to_int['<EOS>']]  for line in target_text.split('\\n')] \n",
    "    return source_id_text, target_letter_ids\n",
    "\n",
    "\"\"\"\n",
    "DON'T MODIFY ANYTHING IN THIS CELL THAT IS BELOW THIS LINE\n",
    "\"\"\"\n",
    "tests.test_text_to_ids(text_to_ids)"
   ]
  },
  {
   "cell_type": "markdown",
   "metadata": {},
   "source": [
    "### Preprocess all the data and save it\n",
    "Running the code cell below will preprocess all the data and save it to file."
   ]
  },
  {
   "cell_type": "code",
   "execution_count": 5,
   "metadata": {
    "collapsed": true
   },
   "outputs": [],
   "source": [
    "\"\"\"\n",
    "DON'T MODIFY ANYTHING IN THIS CELL\n",
    "\"\"\"\n",
    "helper.preprocess_and_save_data(source_path, target_path, text_to_ids)"
   ]
  },
  {
   "cell_type": "markdown",
   "metadata": {},
   "source": [
    "# Check Point\n",
    "This is your first checkpoint. If you ever decide to come back to this notebook or have to restart the notebook, you can start from here. The preprocessed data has been saved to disk."
   ]
  },
  {
   "cell_type": "code",
   "execution_count": 6,
   "metadata": {
    "collapsed": true
   },
   "outputs": [],
   "source": [
    "\"\"\"\n",
    "DON'T MODIFY ANYTHING IN THIS CELL\n",
    "\"\"\"\n",
    "import numpy as np\n",
    "import helper\n",
    "import problem_unittests as tests\n",
    "\n",
    "(source_int_text, target_int_text), (source_vocab_to_int, target_vocab_to_int), _ = helper.load_preprocess()"
   ]
  },
  {
   "cell_type": "markdown",
   "metadata": {},
   "source": [
    "### Check the Version of TensorFlow and Access to GPU\n",
    "This will check to make sure you have the correct version of TensorFlow and access to a GPU"
   ]
  },
  {
   "cell_type": "code",
   "execution_count": 7,
   "metadata": {},
   "outputs": [
    {
     "name": "stdout",
     "output_type": "stream",
     "text": [
      "TensorFlow Version: 1.2.1\n",
      "Default GPU Device: /gpu:0\n"
     ]
    }
   ],
   "source": [
    "\"\"\"\n",
    "DON'T MODIFY ANYTHING IN THIS CELL\n",
    "\"\"\"\n",
    "from distutils.version import LooseVersion\n",
    "import warnings\n",
    "import tensorflow as tf\n",
    "from tensorflow.python.layers.core import Dense\n",
    "\n",
    "# Check TensorFlow Version\n",
    "assert LooseVersion(tf.__version__) >= LooseVersion('1.1'), 'Please use TensorFlow version 1.1 or newer'\n",
    "print('TensorFlow Version: {}'.format(tf.__version__))\n",
    "\n",
    "# Check for a GPU\n",
    "if not tf.test.gpu_device_name():\n",
    "    warnings.warn('No GPU found. Please use a GPU to train your neural network.')\n",
    "else:\n",
    "    print('Default GPU Device: {}'.format(tf.test.gpu_device_name()))"
   ]
  },
  {
   "cell_type": "markdown",
   "metadata": {},
   "source": [
    "## Build the Neural Network\n",
    "You'll build the components necessary to build a Sequence-to-Sequence model by implementing the following functions below:\n",
    "- `model_inputs`\n",
    "- `process_decoder_input`\n",
    "- `encoding_layer`\n",
    "- `decoding_layer_train`\n",
    "- `decoding_layer_infer`\n",
    "- `decoding_layer`\n",
    "- `seq2seq_model`\n",
    "\n",
    "### Input\n",
    "Implement the `model_inputs()` function to create TF Placeholders for the Neural Network. It should create the following placeholders:\n",
    "\n",
    "- Input text placeholder named \"input\" using the TF Placeholder name parameter with rank 2.\n",
    "- Targets placeholder with rank 2.\n",
    "- Learning rate placeholder with rank 0.\n",
    "- Keep probability placeholder named \"keep_prob\" using the TF Placeholder name parameter with rank 0.\n",
    "- Target sequence length placeholder named \"target_sequence_length\" with rank 1\n",
    "- Max target sequence length tensor named \"max_target_len\" getting its value from applying tf.reduce_max on the target_sequence_length placeholder. Rank 0.\n",
    "- Source sequence length placeholder named \"source_sequence_length\" with rank 1\n",
    "\n",
    "Return the placeholders in the following the tuple (input, targets, learning rate, keep probability, target sequence length, max target sequence length, source sequence length)"
   ]
  },
  {
   "cell_type": "code",
   "execution_count": 1,
   "metadata": {},
   "outputs": [
    {
     "ename": "NameError",
     "evalue": "name 'tests' is not defined",
     "output_type": "error",
     "traceback": [
      "\u001b[1;31m---------------------------------------------------------------------------\u001b[0m",
      "\u001b[1;31mNameError\u001b[0m                                 Traceback (most recent call last)",
      "\u001b[1;32m<ipython-input-1-1b7acf98c72c>\u001b[0m in \u001b[0;36m<module>\u001b[1;34m()\u001b[0m\n\u001b[0;32m     21\u001b[0m \u001b[0mDON\u001b[0m\u001b[0;31m'\u001b[0m\u001b[0mT\u001b[0m \u001b[0mMODIFY\u001b[0m \u001b[0mANYTHING\u001b[0m \u001b[0mIN\u001b[0m \u001b[0mTHIS\u001b[0m \u001b[0mCELL\u001b[0m \u001b[0mTHAT\u001b[0m \u001b[0mIS\u001b[0m \u001b[0mBELOW\u001b[0m \u001b[0mTHIS\u001b[0m \u001b[0mLINE\u001b[0m\u001b[1;33m\u001b[0m\u001b[0m\n\u001b[0;32m     22\u001b[0m \"\"\"\n\u001b[1;32m---> 23\u001b[1;33m \u001b[0mtests\u001b[0m\u001b[1;33m.\u001b[0m\u001b[0mtest_model_inputs\u001b[0m\u001b[1;33m(\u001b[0m\u001b[0mmodel_inputs\u001b[0m\u001b[1;33m)\u001b[0m\u001b[1;33m\u001b[0m\u001b[0m\n\u001b[0m",
      "\u001b[1;31mNameError\u001b[0m: name 'tests' is not defined"
     ]
    }
   ],
   "source": [
    "def model_inputs():\n",
    "    \"\"\"\n",
    "    Create TF Placeholders for input, targets, learning rate, and lengths of source and target sequences.\n",
    "    :return: Tuple (input, targets, learning rate, keep probability, target sequence length,\n",
    "    max target sequence length, source sequence length)\n",
    "    \"\"\"\n",
    "\n",
    "    input_data = tf.placeholder(tf.int32, [None, None], name='input')\n",
    "    targets = tf.placeholder(tf.int32, [None, None], name='targets')\n",
    "    lr = tf.placeholder(tf.float32, name='learning_rate')\n",
    "    keep_probability = tf.placeholder(tf.float32, name = 'keep_prob')\n",
    "    target_sequence_length = tf.placeholder(tf.int32, (None,), name='target_sequence_length')\n",
    "    max_target_sequence_length = tf.reduce_max(target_sequence_length, name='max_target_len')\n",
    "    source_sequence_length = tf.placeholder(tf.int32, (None,), name='source_sequence_length')\n",
    "    \n",
    "    return (input_data, targets, lr, keep_probability, \n",
    "            target_sequence_length, max_target_sequence_length, source_sequence_length)\n",
    "\n",
    "\n",
    "\"\"\"\n",
    "DON'T MODIFY ANYTHING IN THIS CELL THAT IS BELOW THIS LINE\n",
    "\"\"\"\n",
    "tests.test_model_inputs(model_inputs)"
   ]
  },
  {
   "cell_type": "markdown",
   "metadata": {},
   "source": [
    "### Process Decoder Input\n",
    "Implement `process_decoder_input` by removing the last word id from each batch in `target_data` and concat the GO ID to the begining of each batch."
   ]
  },
  {
   "cell_type": "code",
   "execution_count": 11,
   "metadata": {},
   "outputs": [
    {
     "name": "stdout",
     "output_type": "stream",
     "text": [
      "Tests Passed\n"
     ]
    }
   ],
   "source": [
    "def process_decoder_input(target_data, target_vocab_to_int, batch_size):\n",
    "    \"\"\"\n",
    "    Preprocess target data for encoding\n",
    "    :param target_data: Target Placehoder\n",
    "    :param target_vocab_to_int: Dictionary to go from the target words to an id\n",
    "    :param batch_size: Batch Size\n",
    "    :return: Preprocessed target data\n",
    "    \"\"\"\n",
    "    # TODO: Implement Function\n",
    "    ending = tf.strided_slice(target_data, [0, 0], [batch_size, -1], [1, 1])\n",
    "    dec_input = tf.concat([tf.fill([batch_size, 1], target_vocab_to_int['<GO>']), ending], 1)\n",
    "    return dec_input\n",
    "\n",
    "\"\"\"\n",
    "DON'T MODIFY ANYTHING IN THIS CELL THAT IS BELOW THIS LINE\n",
    "\"\"\"\n",
    "tests.test_process_encoding_input(process_decoder_input)"
   ]
  },
  {
   "cell_type": "markdown",
   "metadata": {},
   "source": [
    "### Encoding\n",
    "Implement `encoding_layer()` to create a Encoder RNN layer:\n",
    " * Embed the encoder input using [`tf.contrib.layers.embed_sequence`](https://www.tensorflow.org/api_docs/python/tf/contrib/layers/embed_sequence)\n",
    " * Construct a [stacked](https://github.com/tensorflow/tensorflow/blob/6947f65a374ebf29e74bb71e36fd82760056d82c/tensorflow/docs_src/tutorials/recurrent.md#stacking-multiple-lstms) [`tf.contrib.rnn.LSTMCell`](https://www.tensorflow.org/api_docs/python/tf/contrib/rnn/LSTMCell) wrapped in a [`tf.contrib.rnn.DropoutWrapper`](https://www.tensorflow.org/api_docs/python/tf/contrib/rnn/DropoutWrapper)\n",
    " * Pass cell and embedded input to [`tf.nn.dynamic_rnn()`](https://www.tensorflow.org/api_docs/python/tf/nn/dynamic_rnn)"
   ]
  },
  {
   "cell_type": "code",
   "execution_count": 12,
   "metadata": {
    "scrolled": false
   },
   "outputs": [
    {
     "name": "stdout",
     "output_type": "stream",
     "text": [
      "Tests Passed\n"
     ]
    }
   ],
   "source": [
    "from imp import reload\n",
    "reload(tests)\n",
    "\n",
    "def encoding_layer(rnn_inputs, rnn_size, num_layers, keep_prob, \n",
    "                   source_sequence_length, source_vocab_size, \n",
    "                   encoding_embedding_size):\n",
    "    \"\"\"\n",
    "    Create encoding layer\n",
    "    :param rnn_inputs: Inputs for the RNN\n",
    "    :param rnn_size: RNN Size\n",
    "    :param num_layers: Number of layers\n",
    "    :param keep_prob: Dropout keep probability\n",
    "    :param source_sequence_length: a list of the lengths of each sequence in the batch\n",
    "    :param source_vocab_size: vocabulary size of source data\n",
    "    :param encoding_embedding_size: embedding size of source data\n",
    "    :return: tuple (RNN output, RNN state)\n",
    "    \"\"\"\n",
    "    # TODO: Implement Function\n",
    "    enc_embed_input = tf.contrib.layers.embed_sequence(rnn_inputs, source_vocab_size, encoding_embedding_size)\n",
    "\n",
    "    # RNN cell\n",
    "    def make_cell(rnn_size):\n",
    "        enc_cell = tf.contrib.rnn.LSTMCell(rnn_size,\n",
    "                                           initializer=tf.random_uniform_initializer(-0.1, 0.1, seed=2))\n",
    "        return enc_cell\n",
    "    \n",
    "    \n",
    "    \n",
    "\n",
    "    enc_cell = tf.contrib.rnn.MultiRNNCell([make_cell(rnn_size) for _ in range(num_layers)])\n",
    "    cell = tf.contrib.rnn.DropoutWrapper(enc_cell,output_keep_prob = keep_prob)\n",
    "    \n",
    "    enc_output, enc_state = tf.nn.dynamic_rnn(cell, enc_embed_input, sequence_length=source_sequence_length, dtype=tf.float32)\n",
    "        \n",
    "    return enc_output, enc_state\n",
    "\n",
    "\"\"\"\n",
    "DON'T MODIFY ANYTHING IN THIS CELL THAT IS BELOW THIS LINE\n",
    "\"\"\"\n",
    "tests.test_encoding_layer(encoding_layer)"
   ]
  },
  {
   "cell_type": "markdown",
   "metadata": {},
   "source": [
    "### Decoding - Training\n",
    "Create a training decoding layer:\n",
    "* Create a [`tf.contrib.seq2seq.TrainingHelper`](https://www.tensorflow.org/api_docs/python/tf/contrib/seq2seq/TrainingHelper) \n",
    "* Create a [`tf.contrib.seq2seq.BasicDecoder`](https://www.tensorflow.org/api_docs/python/tf/contrib/seq2seq/BasicDecoder)\n",
    "* Obtain the decoder outputs from [`tf.contrib.seq2seq.dynamic_decode`](https://www.tensorflow.org/api_docs/python/tf/contrib/seq2seq/dynamic_decode)"
   ]
  },
  {
   "cell_type": "code",
   "execution_count": 13,
   "metadata": {},
   "outputs": [
    {
     "name": "stdout",
     "output_type": "stream",
     "text": [
      "Tests Passed\n"
     ]
    }
   ],
   "source": [
    "\n",
    "def decoding_layer_train(encoder_state, dec_cell, dec_embed_input, \n",
    "                         target_sequence_length, max_summary_length, \n",
    "                         output_layer, keep_prob):\n",
    "    \"\"\"\n",
    "    Create a decoding layer for training\n",
    "    :param encoder_state: Encoder State\n",
    "    :param dec_cell: Decoder RNN Cell\n",
    "    :param dec_embed_input: Decoder embedded input\n",
    "    :param target_sequence_length: The lengths of each sequence in the target batch\n",
    "    :param max_summary_length: The length of the longest sequence in the batch\n",
    "    :param output_layer: Function to apply the output layer\n",
    "    :param keep_prob: Dropout keep probability\n",
    "    :return: BasicDecoderOutput containing training logits and sample_id\n",
    "    \"\"\"\n",
    "\n",
    "    # TODO: Implement Function\n",
    "    dec_cell = tf.contrib.rnn.DropoutWrapper(dec_cell, output_keep_prob = keep_prob)\n",
    "    training_helper = tf.contrib.seq2seq.TrainingHelper(inputs=dec_embed_input,\n",
    "                                                            sequence_length=target_sequence_length,\n",
    "                                                            time_major=False)\n",
    "        \n",
    "        \n",
    "    # Basic decoder\n",
    "    training_decoder = tf.contrib.seq2seq.BasicDecoder(dec_cell,\n",
    "                                                           training_helper,\n",
    "                                                           encoder_state,\n",
    "                                                           output_layer) \n",
    "    \n",
    "        \n",
    "    # Perform dynamic decoding using the decoder\n",
    "    training_decoder_output = tf.contrib.seq2seq.dynamic_decode(training_decoder,\n",
    "                                                                       impute_finished=True,\n",
    "                                                                       maximum_iterations=max_summary_length)[0]\n",
    "    return training_decoder_output\n",
    "\n",
    "\n",
    "    \n",
    "\n",
    "\n",
    "\n",
    "\"\"\"\n",
    "DON'T MODIFY ANYTHING IN THIS CELL THAT IS BELOW THIS LINE\n",
    "\"\"\"\n",
    "tests.test_decoding_layer_train(decoding_layer_train)"
   ]
  },
  {
   "cell_type": "markdown",
   "metadata": {},
   "source": [
    "### Decoding - Inference\n",
    "Create inference decoder:\n",
    "* Create a [`tf.contrib.seq2seq.GreedyEmbeddingHelper`](https://www.tensorflow.org/api_docs/python/tf/contrib/seq2seq/GreedyEmbeddingHelper)\n",
    "* Create a [`tf.contrib.seq2seq.BasicDecoder`](https://www.tensorflow.org/api_docs/python/tf/contrib/seq2seq/BasicDecoder)\n",
    "* Obtain the decoder outputs from [`tf.contrib.seq2seq.dynamic_decode`](https://www.tensorflow.org/api_docs/python/tf/contrib/seq2seq/dynamic_decode)"
   ]
  },
  {
   "cell_type": "code",
   "execution_count": 14,
   "metadata": {
    "scrolled": true
   },
   "outputs": [
    {
     "name": "stdout",
     "output_type": "stream",
     "text": [
      "Tests Passed\n"
     ]
    }
   ],
   "source": [
    "def decoding_layer_infer(encoder_state, dec_cell, dec_embeddings, start_of_sequence_id,\n",
    "                         end_of_sequence_id, max_target_sequence_length,\n",
    "                         vocab_size, output_layer, batch_size, keep_prob):\n",
    "    \"\"\"\n",
    "    Create a decoding layer for inference\n",
    "    :param encoder_state: Encoder state\n",
    "    :param dec_cell: Decoder RNN Cell\n",
    "    :param dec_embeddings: Decoder embeddings\n",
    "    :param start_of_sequence_id: GO ID\n",
    "    :param end_of_sequence_id: EOS Id\n",
    "    :param max_target_sequence_length: Maximum length of target sequences\n",
    "    :param vocab_size: Size of decoder/target vocabulary\n",
    "    :param decoding_scope: TenorFlow Variable Scope for decoding\n",
    "    :param output_layer: Function to apply the output layer\n",
    "    :param batch_size: Batch size\n",
    "    :param keep_prob: Dropout keep probability\n",
    "    :return: BasicDecoderOutput containing inference logits and sample_id\n",
    "    \"\"\"\n",
    "    # TODO: Implement Function\n",
    "    start_tokens = tf.tile(tf.constant([start_of_sequence_id], dtype=tf.int32), [batch_size], name='start_tokens')\n",
    "\n",
    "        # Helper for the inference process.\n",
    "    inference_helper = tf.contrib.seq2seq.GreedyEmbeddingHelper(dec_embeddings,\n",
    "                                                                    start_tokens,\n",
    "                                                                    end_of_sequence_id)\n",
    "\n",
    "        # Basic decoder\n",
    "    inference_decoder = tf.contrib.seq2seq.BasicDecoder(dec_cell,\n",
    "                                                        inference_helper,\n",
    "                                                        encoder_state,\n",
    "                                                        output_layer)\n",
    "    \n",
    "        \n",
    "        # Perform dynamic decoding using the decoder\n",
    "    inference_decoder_output = tf.contrib.seq2seq.dynamic_decode(inference_decoder,\n",
    "                                                            impute_finished=True,\n",
    "                                                            maximum_iterations=max_target_sequence_length)[0]\n",
    "    return inference_decoder_output\n",
    "\n",
    "\n",
    "\n",
    "\"\"\"\n",
    "DON'T MODIFY ANYTHING IN THIS CELL THAT IS BELOW THIS LINE\n",
    "\"\"\"\n",
    "tests.test_decoding_layer_infer(decoding_layer_infer)"
   ]
  },
  {
   "cell_type": "markdown",
   "metadata": {},
   "source": [
    "### Build the Decoding Layer\n",
    "Implement `decoding_layer()` to create a Decoder RNN layer.\n",
    "\n",
    "* Embed the target sequences\n",
    "* Construct the decoder LSTM cell (just like you constructed the encoder cell above)\n",
    "* Create an output layer to map the outputs of the decoder to the elements of our vocabulary\n",
    "* Use the your `decoding_layer_train(encoder_state, dec_cell, dec_embed_input, target_sequence_length, max_target_sequence_length, output_layer, keep_prob)` function to get the training logits.\n",
    "* Use your `decoding_layer_infer(encoder_state, dec_cell, dec_embeddings, start_of_sequence_id, end_of_sequence_id, max_target_sequence_length, vocab_size, output_layer, batch_size, keep_prob)` function to get the inference logits.\n",
    "\n",
    "Note: You'll need to use [tf.variable_scope](https://www.tensorflow.org/api_docs/python/tf/variable_scope) to share variables between training and inference."
   ]
  },
  {
   "cell_type": "code",
   "execution_count": 17,
   "metadata": {},
   "outputs": [
    {
     "name": "stdout",
     "output_type": "stream",
     "text": [
      "Tests Passed\n"
     ]
    }
   ],
   "source": [
    "\n",
    "def decoding_layer(dec_input, encoder_state,\n",
    "                   target_sequence_length, max_target_sequence_length,\n",
    "                   rnn_size,\n",
    "                   num_layers, target_vocab_to_int, target_vocab_size,\n",
    "                   batch_size, keep_prob, decoding_embedding_size):\n",
    "    \"\"\"\n",
    "    Create decoding layer\n",
    "    :param dec_input: Decoder input\n",
    "    :param encoder_state: Encoder state\n",
    "    :param target_sequence_length: The lengths of each sequence in the target batch\n",
    "    :param max_target_sequence_length: Maximum length of target sequences\n",
    "    :param rnn_size: RNN Size\n",
    "    :param num_layers: Number of layers\n",
    "    :param target_vocab_to_int: Dictionary to go from the target words to an id\n",
    "    :param target_vocab_size: Size of target vocabulary\n",
    "    :param batch_size: The size of the batch\n",
    "    :param keep_prob: Dropout keep probability\n",
    "    :param decoding_embedding_size: Decoding embedding size\n",
    "    :return: Tuple of (Training BasicDecoderOutput, Inference BasicDecoderOutput)\n",
    "    \"\"\"\n",
    "    # TODO: Implement Function\n",
    "\n",
    "    \n",
    "    #for this part I had to check The Udacity forums because I didint know what to do\n",
    "    \n",
    "    dec_embeddings = tf.Variable(tf.random_uniform([target_vocab_size, decoding_embedding_size]))\n",
    "    dec_embed_input = tf.nn.embedding_lookup(dec_embeddings, dec_input)  \n",
    "\n",
    "    \n",
    "   \n",
    "    def make_cell(rnn_size):\n",
    "        dec_cell = tf.contrib.rnn.LSTMCell(rnn_size, initializer=tf.random_uniform_initializer(-0.1, 0.1, seed=2))\n",
    "        return dec_cell\n",
    "    dec_cell = tf.contrib.rnn.MultiRNNCell([make_cell(rnn_size) for _ in range(num_layers)])   \n",
    "\n",
    "  \n",
    "    output_layer = Dense(target_vocab_size, kernel_initializer = tf.truncated_normal_initializer(mean=0.0, stddev=0.1))   \n",
    "\n",
    "    # Training decoder\n",
    "    with tf.variable_scope(\"decode\")as scope :\n",
    "\n",
    "        training_decoder_output = decoding_layer_train(encoder_state, dec_cell, dec_embed_input, \n",
    "                         target_sequence_length, max_target_sequence_length, \n",
    "                         output_layer, keep_prob)\n",
    "\n",
    "    # Inference decoder\n",
    "    scope.reuse_variables()\n",
    "    start_of_sequence_id = target_vocab_to_int['<GO>']\n",
    "    end_of_sequence_id = target_vocab_to_int['<EOS>']\n",
    "\n",
    "    inference_decoder_output = decoding_layer_infer(encoder_state, dec_cell, dec_embeddings, start_of_sequence_id,\n",
    "                             end_of_sequence_id, max_target_sequence_length,\n",
    "                             target_vocab_size, output_layer, batch_size, keep_prob)\n",
    "\n",
    "    return training_decoder_output, inference_decoder_output\n",
    "\n",
    "\n",
    "\n",
    "\"\"\"\n",
    "DON'T MODIFY ANYTHING IN THIS CELL THAT IS BELOW THIS LINE\n",
    "\"\"\"\n",
    "tests.test_decoding_layer(decoding_layer)"
   ]
  },
  {
   "cell_type": "markdown",
   "metadata": {},
   "source": [
    "### Build the Neural Network\n",
    "Apply the functions you implemented above to:\n",
    "\n",
    "- Encode the input using your `encoding_layer(rnn_inputs, rnn_size, num_layers, keep_prob,  source_sequence_length, source_vocab_size, encoding_embedding_size)`.\n",
    "- Process target data using your `process_decoder_input(target_data, target_vocab_to_int, batch_size)` function.\n",
    "- Decode the encoded input using your `decoding_layer(dec_input, enc_state, target_sequence_length, max_target_sentence_length, rnn_size, num_layers, target_vocab_to_int, target_vocab_size, batch_size, keep_prob, dec_embedding_size)` function."
   ]
  },
  {
   "cell_type": "code",
   "execution_count": 18,
   "metadata": {},
   "outputs": [
    {
     "name": "stdout",
     "output_type": "stream",
     "text": [
      "Tests Passed\n"
     ]
    }
   ],
   "source": [
    "def seq2seq_model(input_data, target_data, keep_prob, batch_size,\n",
    "                  source_sequence_length, target_sequence_length,\n",
    "                  max_target_sentence_length,\n",
    "                  source_vocab_size, target_vocab_size,\n",
    "                  enc_embedding_size, dec_embedding_size,\n",
    "                  rnn_size, num_layers, target_vocab_to_int):\n",
    "    \"\"\"\n",
    "    Build the Sequence-to-Sequence part of the neural network\n",
    "    :param input_data: Input placeholder\n",
    "    :param target_data: Target placeholder\n",
    "    :param keep_prob: Dropout keep probability placeholder\n",
    "    :param batch_size: Batch Size\n",
    "    :param source_sequence_length: Sequence Lengths of source sequences in the batch\n",
    "    :param target_sequence_length: Sequence Lengths of target sequences in the batch\n",
    "    :param source_vocab_size: Source vocabulary size\n",
    "    :param target_vocab_size: Target vocabulary size\n",
    "    :param enc_embedding_size: Decoder embedding size\n",
    "    :param dec_embedding_size: Encoder embedding size\n",
    "    :param rnn_size: RNN Size\n",
    "    :param num_layers: Number of layers\n",
    "    :param target_vocab_to_int: Dictionary to go from the target words to an id\n",
    "    :return: Tuple of (Training BasicDecoderOutput, Inference BasicDecoderOutput)\n",
    "    \"\"\"\n",
    "    # TODO: Implement Function\n",
    "    \n",
    "    _, enc_state = encoding_layer(input_data, \n",
    "                                  rnn_size, \n",
    "                                  num_layers, \n",
    "                                  keep_prob,\n",
    "                                  source_sequence_length,\n",
    "                                  source_vocab_size, \n",
    "                                  enc_embedding_size)\n",
    "    \n",
    "    \n",
    "    # Prepare the target sequences we'll feed to the decoder in training mode\n",
    "    dec_input = process_decoder_input(target_data, target_vocab_to_int, batch_size)\n",
    "    \n",
    "    # Pass encoder state and decoder inputs to the decoders\n",
    "    \n",
    "    \n",
    "    training_decoder_output, inference_decoder_output =  decoding_layer(dec_input, enc_state,\n",
    "                   target_sequence_length, max_target_sentence_length,\n",
    "                   rnn_size,\n",
    "                   num_layers, target_vocab_to_int, target_vocab_size,\n",
    "                   batch_size, keep_prob, dec_embedding_size)\n",
    "\n",
    "    \n",
    "    return  training_decoder_output, inference_decoder_output\n",
    "\n",
    "\n",
    "\"\"\"\n",
    "DON'T MODIFY ANYTHING IN THIS CELL THAT IS BELOW THIS LINE\n",
    "\"\"\"\n",
    "tests.test_seq2seq_model(seq2seq_model)"
   ]
  },
  {
   "cell_type": "markdown",
   "metadata": {},
   "source": [
    "## Neural Network Training\n",
    "### Hyperparameters\n",
    "Tune the following parameters:\n",
    "\n",
    "- Set `epochs` to the number of epochs.\n",
    "- Set `batch_size` to the batch size.\n",
    "- Set `rnn_size` to the size of the RNNs.\n",
    "- Set `num_layers` to the number of layers.\n",
    "- Set `encoding_embedding_size` to the size of the embedding for the encoder.\n",
    "- Set `decoding_embedding_size` to the size of the embedding for the decoder.\n",
    "- Set `learning_rate` to the learning rate.\n",
    "- Set `keep_probability` to the Dropout keep probability\n",
    "- Set `display_step` to state how many steps between each debug output statement"
   ]
  },
  {
   "cell_type": "code",
   "execution_count": 19,
   "metadata": {
    "collapsed": true
   },
   "outputs": [],
   "source": [
    "# Number of Epochs\n",
    "epochs = 2\n",
    "# Batch Size\n",
    "batch_size = 128\n",
    "# RNN Size\n",
    "rnn_size = 300\n",
    "# Number of Layers\n",
    "num_layers = 2\n",
    "# Embedding Size\n",
    "encoding_embedding_size = 256\n",
    "decoding_embedding_size = 256\n",
    "# Learning Rate\n",
    "learning_rate = 0.001\n",
    "# Dropout Keep Probability\n",
    "keep_probability = 0.7\n",
    "display_step = 10"
   ]
  },
  {
   "cell_type": "markdown",
   "metadata": {},
   "source": [
    "### Build the Graph\n",
    "Build the graph using the neural network you implemented."
   ]
  },
  {
   "cell_type": "code",
   "execution_count": 20,
   "metadata": {
    "collapsed": true
   },
   "outputs": [],
   "source": [
    "\"\"\"\n",
    "DON'T MODIFY ANYTHING IN THIS CELL\n",
    "\"\"\"\n",
    "save_path = 'checkpoints/dev'\n",
    "(source_int_text, target_int_text), (source_vocab_to_int, target_vocab_to_int), _ = helper.load_preprocess()\n",
    "max_target_sentence_length = max([len(sentence) for sentence in source_int_text])\n",
    "\n",
    "train_graph = tf.Graph()\n",
    "with train_graph.as_default():\n",
    "    input_data, targets, lr, keep_prob, target_sequence_length, max_target_sequence_length, source_sequence_length = model_inputs()\n",
    "\n",
    "    #sequence_length = tf.placeholder_with_default(max_target_sentence_length, None, name='sequence_length')\n",
    "    input_shape = tf.shape(input_data)\n",
    "\n",
    "    train_logits, inference_logits = seq2seq_model(tf.reverse(input_data, [-1]),\n",
    "                                                   targets,\n",
    "                                                   keep_prob,\n",
    "                                                   batch_size,\n",
    "                                                   source_sequence_length,\n",
    "                                                   target_sequence_length,\n",
    "                                                   max_target_sequence_length,\n",
    "                                                   len(source_vocab_to_int),\n",
    "                                                   len(target_vocab_to_int),\n",
    "                                                   encoding_embedding_size,\n",
    "                                                   decoding_embedding_size,\n",
    "                                                   rnn_size,\n",
    "                                                   num_layers,\n",
    "                                                   target_vocab_to_int)\n",
    "\n",
    "\n",
    "    training_logits = tf.identity(train_logits.rnn_output, name='logits')\n",
    "    inference_logits = tf.identity(inference_logits.sample_id, name='predictions')\n",
    "\n",
    "    masks = tf.sequence_mask(target_sequence_length, max_target_sequence_length, dtype=tf.float32, name='masks')\n",
    "\n",
    "    with tf.name_scope(\"optimization\"):\n",
    "        # Loss function\n",
    "        cost = tf.contrib.seq2seq.sequence_loss(\n",
    "            training_logits,\n",
    "            targets,\n",
    "            masks)\n",
    "\n",
    "        # Optimizer\n",
    "        optimizer = tf.train.AdamOptimizer(lr)\n",
    "\n",
    "        # Gradient Clipping\n",
    "        gradients = optimizer.compute_gradients(cost)\n",
    "        capped_gradients = [(tf.clip_by_value(grad, -1., 1.), var) for grad, var in gradients if grad is not None]\n",
    "        train_op = optimizer.apply_gradients(capped_gradients)\n"
   ]
  },
  {
   "cell_type": "markdown",
   "metadata": {},
   "source": [
    "Batch and pad the source and target sequences"
   ]
  },
  {
   "cell_type": "code",
   "execution_count": 21,
   "metadata": {
    "collapsed": true
   },
   "outputs": [],
   "source": [
    "\"\"\"\n",
    "DON'T MODIFY ANYTHING IN THIS CELL\n",
    "\"\"\"\n",
    "def pad_sentence_batch(sentence_batch, pad_int):\n",
    "    \"\"\"Pad sentences with <PAD> so that each sentence of a batch has the same length\"\"\"\n",
    "    max_sentence = max([len(sentence) for sentence in sentence_batch])\n",
    "    return [sentence + [pad_int] * (max_sentence - len(sentence)) for sentence in sentence_batch]\n",
    "\n",
    "\n",
    "def get_batches(sources, targets, batch_size, source_pad_int, target_pad_int):\n",
    "    \"\"\"Batch targets, sources, and the lengths of their sentences together\"\"\"\n",
    "    for batch_i in range(0, len(sources)//batch_size):\n",
    "        start_i = batch_i * batch_size\n",
    "\n",
    "        # Slice the right amount for the batch\n",
    "        sources_batch = sources[start_i:start_i + batch_size]\n",
    "        targets_batch = targets[start_i:start_i + batch_size]\n",
    "\n",
    "        # Pad\n",
    "        pad_sources_batch = np.array(pad_sentence_batch(sources_batch, source_pad_int))\n",
    "        pad_targets_batch = np.array(pad_sentence_batch(targets_batch, target_pad_int))\n",
    "\n",
    "        # Need the lengths for the _lengths parameters\n",
    "        pad_targets_lengths = []\n",
    "        for target in pad_targets_batch:\n",
    "            pad_targets_lengths.append(len(target))\n",
    "\n",
    "        pad_source_lengths = []\n",
    "        for source in pad_sources_batch:\n",
    "            pad_source_lengths.append(len(source))\n",
    "\n",
    "        yield pad_sources_batch, pad_targets_batch, pad_source_lengths, pad_targets_lengths\n"
   ]
  },
  {
   "cell_type": "markdown",
   "metadata": {},
   "source": [
    "### Train\n",
    "Train the neural network on the preprocessed data. If you have a hard time getting a good loss, check the forms to see if anyone is having the same problem."
   ]
  },
  {
   "cell_type": "code",
   "execution_count": 22,
   "metadata": {
    "scrolled": true
   },
   "outputs": [
    {
     "name": "stdout",
     "output_type": "stream",
     "text": [
      "Epoch   0 Batch   10/1077 - Train Accuracy: 0.2821, Validation Accuracy: 0.3782, Loss: 3.6401\n",
      "Epoch   0 Batch   20/1077 - Train Accuracy: 0.3586, Validation Accuracy: 0.4141, Loss: 2.9382\n",
      "Epoch   0 Batch   30/1077 - Train Accuracy: 0.3734, Validation Accuracy: 0.4467, Loss: 2.6924\n",
      "Epoch   0 Batch   40/1077 - Train Accuracy: 0.4391, Validation Accuracy: 0.4901, Loss: 2.5204\n",
      "Epoch   0 Batch   50/1077 - Train Accuracy: 0.4062, Validation Accuracy: 0.4705, Loss: 2.3536\n",
      "Epoch   0 Batch   60/1077 - Train Accuracy: 0.4301, Validation Accuracy: 0.4716, Loss: 2.0043\n",
      "Epoch   0 Batch   70/1077 - Train Accuracy: 0.3709, Validation Accuracy: 0.4634, Loss: 1.9591\n",
      "Epoch   0 Batch   80/1077 - Train Accuracy: 0.4367, Validation Accuracy: 0.4936, Loss: 1.7224\n",
      "Epoch   0 Batch   90/1077 - Train Accuracy: 0.4098, Validation Accuracy: 0.4723, Loss: 1.6737\n",
      "Epoch   0 Batch  100/1077 - Train Accuracy: 0.4316, Validation Accuracy: 0.4719, Loss: 1.5240\n",
      "Epoch   0 Batch  110/1077 - Train Accuracy: 0.4609, Validation Accuracy: 0.4837, Loss: 1.4069\n",
      "Epoch   0 Batch  120/1077 - Train Accuracy: 0.4348, Validation Accuracy: 0.4851, Loss: 1.3753\n",
      "Epoch   0 Batch  130/1077 - Train Accuracy: 0.4416, Validation Accuracy: 0.4790, Loss: 1.2241\n",
      "Epoch   0 Batch  140/1077 - Train Accuracy: 0.4511, Validation Accuracy: 0.5234, Loss: 1.2914\n",
      "Epoch   0 Batch  150/1077 - Train Accuracy: 0.5376, Validation Accuracy: 0.5455, Loss: 1.0987\n",
      "Epoch   0 Batch  160/1077 - Train Accuracy: 0.5293, Validation Accuracy: 0.5621, Loss: 1.0716\n",
      "Epoch   0 Batch  170/1077 - Train Accuracy: 0.4723, Validation Accuracy: 0.5518, Loss: 1.0618\n",
      "Epoch   0 Batch  180/1077 - Train Accuracy: 0.5367, Validation Accuracy: 0.5657, Loss: 0.9982\n",
      "Epoch   0 Batch  190/1077 - Train Accuracy: 0.5563, Validation Accuracy: 0.5746, Loss: 0.9219\n",
      "Epoch   0 Batch  200/1077 - Train Accuracy: 0.5293, Validation Accuracy: 0.5803, Loss: 0.9332\n",
      "Epoch   0 Batch  210/1077 - Train Accuracy: 0.5610, Validation Accuracy: 0.5920, Loss: 0.8781\n",
      "Epoch   0 Batch  220/1077 - Train Accuracy: 0.5477, Validation Accuracy: 0.5923, Loss: 0.8503\n",
      "Epoch   0 Batch  230/1077 - Train Accuracy: 0.5759, Validation Accuracy: 0.5969, Loss: 0.7858\n",
      "Epoch   0 Batch  240/1077 - Train Accuracy: 0.5992, Validation Accuracy: 0.6080, Loss: 0.7909\n",
      "Epoch   0 Batch  250/1077 - Train Accuracy: 0.5572, Validation Accuracy: 0.6023, Loss: 0.6949\n",
      "Epoch   0 Batch  260/1077 - Train Accuracy: 0.6090, Validation Accuracy: 0.6129, Loss: 0.7057\n",
      "Epoch   0 Batch  270/1077 - Train Accuracy: 0.5883, Validation Accuracy: 0.5980, Loss: 0.7498\n",
      "Epoch   0 Batch  280/1077 - Train Accuracy: 0.6422, Validation Accuracy: 0.6200, Loss: 0.7165\n",
      "Epoch   0 Batch  290/1077 - Train Accuracy: 0.5949, Validation Accuracy: 0.6207, Loss: 0.7326\n",
      "Epoch   0 Batch  300/1077 - Train Accuracy: 0.5855, Validation Accuracy: 0.6229, Loss: 0.6775\n",
      "Epoch   0 Batch  310/1077 - Train Accuracy: 0.6129, Validation Accuracy: 0.6371, Loss: 0.6625\n",
      "Epoch   0 Batch  320/1077 - Train Accuracy: 0.6129, Validation Accuracy: 0.6211, Loss: 0.6519\n",
      "Epoch   0 Batch  330/1077 - Train Accuracy: 0.6547, Validation Accuracy: 0.6364, Loss: 0.6218\n",
      "Epoch   0 Batch  340/1077 - Train Accuracy: 0.5839, Validation Accuracy: 0.6264, Loss: 0.6302\n",
      "Epoch   0 Batch  350/1077 - Train Accuracy: 0.6168, Validation Accuracy: 0.6392, Loss: 0.6291\n",
      "Epoch   0 Batch  360/1077 - Train Accuracy: 0.5945, Validation Accuracy: 0.6460, Loss: 0.6024\n",
      "Epoch   0 Batch  370/1077 - Train Accuracy: 0.6257, Validation Accuracy: 0.6349, Loss: 0.5645\n",
      "Epoch   0 Batch  380/1077 - Train Accuracy: 0.6293, Validation Accuracy: 0.6381, Loss: 0.5643\n",
      "Epoch   0 Batch  390/1077 - Train Accuracy: 0.6098, Validation Accuracy: 0.6349, Loss: 0.5971\n",
      "Epoch   0 Batch  400/1077 - Train Accuracy: 0.6445, Validation Accuracy: 0.6445, Loss: 0.5580\n",
      "Epoch   0 Batch  410/1077 - Train Accuracy: 0.6110, Validation Accuracy: 0.6502, Loss: 0.5707\n",
      "Epoch   0 Batch  420/1077 - Train Accuracy: 0.6641, Validation Accuracy: 0.6438, Loss: 0.5127\n",
      "Epoch   0 Batch  430/1077 - Train Accuracy: 0.6359, Validation Accuracy: 0.6452, Loss: 0.5137\n",
      "Epoch   0 Batch  440/1077 - Train Accuracy: 0.6516, Validation Accuracy: 0.6559, Loss: 0.5372\n",
      "Epoch   0 Batch  450/1077 - Train Accuracy: 0.6891, Validation Accuracy: 0.6491, Loss: 0.4853\n",
      "Epoch   0 Batch  460/1077 - Train Accuracy: 0.6680, Validation Accuracy: 0.6573, Loss: 0.5050\n",
      "Epoch   0 Batch  470/1077 - Train Accuracy: 0.6789, Validation Accuracy: 0.6641, Loss: 0.5112\n",
      "Epoch   0 Batch  480/1077 - Train Accuracy: 0.6994, Validation Accuracy: 0.7049, Loss: 0.4679\n",
      "Epoch   0 Batch  490/1077 - Train Accuracy: 0.6988, Validation Accuracy: 0.6960, Loss: 0.4670\n",
      "Epoch   0 Batch  500/1077 - Train Accuracy: 0.7117, Validation Accuracy: 0.7127, Loss: 0.4374\n",
      "Epoch   0 Batch  510/1077 - Train Accuracy: 0.6957, Validation Accuracy: 0.6829, Loss: 0.4194\n",
      "Epoch   0 Batch  520/1077 - Train Accuracy: 0.7366, Validation Accuracy: 0.7099, Loss: 0.4016\n",
      "Epoch   0 Batch  530/1077 - Train Accuracy: 0.7172, Validation Accuracy: 0.7369, Loss: 0.4154\n",
      "Epoch   0 Batch  540/1077 - Train Accuracy: 0.7465, Validation Accuracy: 0.7351, Loss: 0.3640\n",
      "Epoch   0 Batch  550/1077 - Train Accuracy: 0.7324, Validation Accuracy: 0.7589, Loss: 0.4218\n",
      "Epoch   0 Batch  560/1077 - Train Accuracy: 0.7785, Validation Accuracy: 0.7493, Loss: 0.3530\n",
      "Epoch   0 Batch  570/1077 - Train Accuracy: 0.7804, Validation Accuracy: 0.7585, Loss: 0.3685\n",
      "Epoch   0 Batch  580/1077 - Train Accuracy: 0.7909, Validation Accuracy: 0.7798, Loss: 0.3318\n",
      "Epoch   0 Batch  590/1077 - Train Accuracy: 0.7220, Validation Accuracy: 0.7603, Loss: 0.3620\n",
      "Epoch   0 Batch  600/1077 - Train Accuracy: 0.8118, Validation Accuracy: 0.7763, Loss: 0.3181\n",
      "Epoch   0 Batch  610/1077 - Train Accuracy: 0.8018, Validation Accuracy: 0.7862, Loss: 0.3485\n",
      "Epoch   0 Batch  620/1077 - Train Accuracy: 0.7797, Validation Accuracy: 0.7820, Loss: 0.3124\n",
      "Epoch   0 Batch  630/1077 - Train Accuracy: 0.8008, Validation Accuracy: 0.8129, Loss: 0.2930\n",
      "Epoch   0 Batch  640/1077 - Train Accuracy: 0.8147, Validation Accuracy: 0.8274, Loss: 0.2708\n",
      "Epoch   0 Batch  650/1077 - Train Accuracy: 0.7875, Validation Accuracy: 0.7784, Loss: 0.2791\n",
      "Epoch   0 Batch  660/1077 - Train Accuracy: 0.8168, Validation Accuracy: 0.7976, Loss: 0.2874\n",
      "Epoch   0 Batch  670/1077 - Train Accuracy: 0.8288, Validation Accuracy: 0.8466, Loss: 0.2655\n",
      "Epoch   0 Batch  680/1077 - Train Accuracy: 0.8318, Validation Accuracy: 0.8192, Loss: 0.2520\n",
      "Epoch   0 Batch  690/1077 - Train Accuracy: 0.8477, Validation Accuracy: 0.8232, Loss: 0.2481\n",
      "Epoch   0 Batch  700/1077 - Train Accuracy: 0.8340, Validation Accuracy: 0.8111, Loss: 0.2218\n",
      "Epoch   0 Batch  710/1077 - Train Accuracy: 0.8359, Validation Accuracy: 0.8203, Loss: 0.2277\n",
      "Epoch   0 Batch  720/1077 - Train Accuracy: 0.8100, Validation Accuracy: 0.8256, Loss: 0.2579\n",
      "Epoch   0 Batch  730/1077 - Train Accuracy: 0.8516, Validation Accuracy: 0.8086, Loss: 0.2361\n",
      "Epoch   0 Batch  740/1077 - Train Accuracy: 0.8488, Validation Accuracy: 0.8370, Loss: 0.2096\n",
      "Epoch   0 Batch  750/1077 - Train Accuracy: 0.8664, Validation Accuracy: 0.8452, Loss: 0.2160\n",
      "Epoch   0 Batch  760/1077 - Train Accuracy: 0.8559, Validation Accuracy: 0.8434, Loss: 0.2283\n",
      "Epoch   0 Batch  770/1077 - Train Accuracy: 0.8307, Validation Accuracy: 0.8363, Loss: 0.1932\n",
      "Epoch   0 Batch  780/1077 - Train Accuracy: 0.8289, Validation Accuracy: 0.8597, Loss: 0.2121\n",
      "Epoch   0 Batch  790/1077 - Train Accuracy: 0.8258, Validation Accuracy: 0.8448, Loss: 0.1975\n",
      "Epoch   0 Batch  800/1077 - Train Accuracy: 0.8957, Validation Accuracy: 0.8576, Loss: 0.1748\n",
      "Epoch   0 Batch  810/1077 - Train Accuracy: 0.8917, Validation Accuracy: 0.8587, Loss: 0.1496\n",
      "Epoch   0 Batch  820/1077 - Train Accuracy: 0.8344, Validation Accuracy: 0.8583, Loss: 0.1683\n",
      "Epoch   0 Batch  830/1077 - Train Accuracy: 0.8895, Validation Accuracy: 0.8746, Loss: 0.1632\n",
      "Epoch   0 Batch  840/1077 - Train Accuracy: 0.8781, Validation Accuracy: 0.8572, Loss: 0.1431\n",
      "Epoch   0 Batch  850/1077 - Train Accuracy: 0.8709, Validation Accuracy: 0.8732, Loss: 0.1731\n",
      "Epoch   0 Batch  860/1077 - Train Accuracy: 0.8888, Validation Accuracy: 0.8771, Loss: 0.1519\n",
      "Epoch   0 Batch  870/1077 - Train Accuracy: 0.8475, Validation Accuracy: 0.8746, Loss: 0.1493\n",
      "Epoch   0 Batch  880/1077 - Train Accuracy: 0.9145, Validation Accuracy: 0.8679, Loss: 0.1331\n"
     ]
    },
    {
     "name": "stdout",
     "output_type": "stream",
     "text": [
      "Epoch   0 Batch  890/1077 - Train Accuracy: 0.9282, Validation Accuracy: 0.8896, Loss: 0.1271\n",
      "Epoch   0 Batch  900/1077 - Train Accuracy: 0.9047, Validation Accuracy: 0.8842, Loss: 0.1409\n",
      "Epoch   0 Batch  910/1077 - Train Accuracy: 0.8891, Validation Accuracy: 0.8754, Loss: 0.1283\n",
      "Epoch   0 Batch  920/1077 - Train Accuracy: 0.8914, Validation Accuracy: 0.8796, Loss: 0.1209\n",
      "Epoch   0 Batch  930/1077 - Train Accuracy: 0.9016, Validation Accuracy: 0.8821, Loss: 0.1012\n",
      "Epoch   0 Batch  940/1077 - Train Accuracy: 0.9242, Validation Accuracy: 0.8686, Loss: 0.0976\n",
      "Epoch   0 Batch  950/1077 - Train Accuracy: 0.8862, Validation Accuracy: 0.8967, Loss: 0.0985\n",
      "Epoch   0 Batch  960/1077 - Train Accuracy: 0.9036, Validation Accuracy: 0.8729, Loss: 0.1027\n",
      "Epoch   0 Batch  970/1077 - Train Accuracy: 0.9250, Validation Accuracy: 0.8686, Loss: 0.1051\n",
      "Epoch   0 Batch  980/1077 - Train Accuracy: 0.8969, Validation Accuracy: 0.8771, Loss: 0.1048\n",
      "Epoch   0 Batch  990/1077 - Train Accuracy: 0.9182, Validation Accuracy: 0.9023, Loss: 0.1085\n",
      "Epoch   0 Batch 1000/1077 - Train Accuracy: 0.9163, Validation Accuracy: 0.8967, Loss: 0.0886\n",
      "Epoch   0 Batch 1010/1077 - Train Accuracy: 0.9227, Validation Accuracy: 0.9041, Loss: 0.0963\n",
      "Epoch   0 Batch 1020/1077 - Train Accuracy: 0.9309, Validation Accuracy: 0.8963, Loss: 0.0818\n",
      "Epoch   0 Batch 1030/1077 - Train Accuracy: 0.8879, Validation Accuracy: 0.8920, Loss: 0.0984\n",
      "Epoch   0 Batch 1040/1077 - Train Accuracy: 0.9058, Validation Accuracy: 0.8722, Loss: 0.1017\n",
      "Epoch   0 Batch 1050/1077 - Train Accuracy: 0.9293, Validation Accuracy: 0.9045, Loss: 0.0780\n",
      "Epoch   0 Batch 1060/1077 - Train Accuracy: 0.9207, Validation Accuracy: 0.9034, Loss: 0.0746\n",
      "Epoch   0 Batch 1070/1077 - Train Accuracy: 0.9066, Validation Accuracy: 0.9006, Loss: 0.0833\n",
      "Epoch   1 Batch   10/1077 - Train Accuracy: 0.9313, Validation Accuracy: 0.8913, Loss: 0.0796\n",
      "Epoch   1 Batch   20/1077 - Train Accuracy: 0.9223, Validation Accuracy: 0.8945, Loss: 0.0689\n",
      "Epoch   1 Batch   30/1077 - Train Accuracy: 0.9258, Validation Accuracy: 0.8981, Loss: 0.0731\n",
      "Epoch   1 Batch   40/1077 - Train Accuracy: 0.9328, Validation Accuracy: 0.9105, Loss: 0.0733\n",
      "Epoch   1 Batch   50/1077 - Train Accuracy: 0.9266, Validation Accuracy: 0.9176, Loss: 0.0761\n",
      "Epoch   1 Batch   60/1077 - Train Accuracy: 0.9304, Validation Accuracy: 0.9116, Loss: 0.0668\n",
      "Epoch   1 Batch   70/1077 - Train Accuracy: 0.9034, Validation Accuracy: 0.9119, Loss: 0.0764\n",
      "Epoch   1 Batch   80/1077 - Train Accuracy: 0.9281, Validation Accuracy: 0.8974, Loss: 0.0722\n",
      "Epoch   1 Batch   90/1077 - Train Accuracy: 0.9156, Validation Accuracy: 0.8960, Loss: 0.0756\n",
      "Epoch   1 Batch  100/1077 - Train Accuracy: 0.9391, Validation Accuracy: 0.9208, Loss: 0.0699\n",
      "Epoch   1 Batch  110/1077 - Train Accuracy: 0.9594, Validation Accuracy: 0.9180, Loss: 0.0545\n",
      "Epoch   1 Batch  120/1077 - Train Accuracy: 0.9242, Validation Accuracy: 0.9219, Loss: 0.0755\n",
      "Epoch   1 Batch  130/1077 - Train Accuracy: 0.9408, Validation Accuracy: 0.9006, Loss: 0.0627\n",
      "Epoch   1 Batch  140/1077 - Train Accuracy: 0.9079, Validation Accuracy: 0.9091, Loss: 0.0693\n",
      "Epoch   1 Batch  150/1077 - Train Accuracy: 0.9249, Validation Accuracy: 0.9020, Loss: 0.0781\n",
      "Epoch   1 Batch  160/1077 - Train Accuracy: 0.9332, Validation Accuracy: 0.9119, Loss: 0.0644\n",
      "Epoch   1 Batch  170/1077 - Train Accuracy: 0.9309, Validation Accuracy: 0.8913, Loss: 0.0697\n",
      "Epoch   1 Batch  180/1077 - Train Accuracy: 0.9344, Validation Accuracy: 0.8956, Loss: 0.0571\n",
      "Epoch   1 Batch  190/1077 - Train Accuracy: 0.9473, Validation Accuracy: 0.9165, Loss: 0.0554\n",
      "Epoch   1 Batch  200/1077 - Train Accuracy: 0.9289, Validation Accuracy: 0.9134, Loss: 0.0710\n",
      "Epoch   1 Batch  210/1077 - Train Accuracy: 0.9371, Validation Accuracy: 0.8952, Loss: 0.0640\n",
      "Epoch   1 Batch  220/1077 - Train Accuracy: 0.9490, Validation Accuracy: 0.9077, Loss: 0.0555\n",
      "Epoch   1 Batch  230/1077 - Train Accuracy: 0.9457, Validation Accuracy: 0.8888, Loss: 0.0594\n",
      "Epoch   1 Batch  240/1077 - Train Accuracy: 0.9496, Validation Accuracy: 0.9105, Loss: 0.0533\n",
      "Epoch   1 Batch  250/1077 - Train Accuracy: 0.9254, Validation Accuracy: 0.9116, Loss: 0.0600\n",
      "Epoch   1 Batch  260/1077 - Train Accuracy: 0.9252, Validation Accuracy: 0.9254, Loss: 0.0516\n",
      "Epoch   1 Batch  270/1077 - Train Accuracy: 0.9266, Validation Accuracy: 0.9137, Loss: 0.0614\n",
      "Epoch   1 Batch  280/1077 - Train Accuracy: 0.9133, Validation Accuracy: 0.9080, Loss: 0.0609\n",
      "Epoch   1 Batch  290/1077 - Train Accuracy: 0.9133, Validation Accuracy: 0.9276, Loss: 0.0828\n",
      "Epoch   1 Batch  300/1077 - Train Accuracy: 0.9634, Validation Accuracy: 0.9048, Loss: 0.0534\n",
      "Epoch   1 Batch  310/1077 - Train Accuracy: 0.9293, Validation Accuracy: 0.9045, Loss: 0.0580\n",
      "Epoch   1 Batch  320/1077 - Train Accuracy: 0.9430, Validation Accuracy: 0.9034, Loss: 0.0515\n",
      "Epoch   1 Batch  330/1077 - Train Accuracy: 0.9434, Validation Accuracy: 0.9151, Loss: 0.0590\n",
      "Epoch   1 Batch  340/1077 - Train Accuracy: 0.9679, Validation Accuracy: 0.9016, Loss: 0.0500\n",
      "Epoch   1 Batch  350/1077 - Train Accuracy: 0.9391, Validation Accuracy: 0.9102, Loss: 0.0589\n",
      "Epoch   1 Batch  360/1077 - Train Accuracy: 0.9277, Validation Accuracy: 0.9219, Loss: 0.0467\n",
      "Epoch   1 Batch  370/1077 - Train Accuracy: 0.9490, Validation Accuracy: 0.9222, Loss: 0.0528\n",
      "Epoch   1 Batch  380/1077 - Train Accuracy: 0.9465, Validation Accuracy: 0.9332, Loss: 0.0384\n",
      "Epoch   1 Batch  390/1077 - Train Accuracy: 0.8984, Validation Accuracy: 0.9212, Loss: 0.0642\n",
      "Epoch   1 Batch  400/1077 - Train Accuracy: 0.9418, Validation Accuracy: 0.9300, Loss: 0.0579\n",
      "Epoch   1 Batch  410/1077 - Train Accuracy: 0.9305, Validation Accuracy: 0.9375, Loss: 0.0680\n",
      "Epoch   1 Batch  420/1077 - Train Accuracy: 0.9621, Validation Accuracy: 0.9272, Loss: 0.0370\n",
      "Epoch   1 Batch  430/1077 - Train Accuracy: 0.9500, Validation Accuracy: 0.9244, Loss: 0.0376\n",
      "Epoch   1 Batch  440/1077 - Train Accuracy: 0.9340, Validation Accuracy: 0.9432, Loss: 0.0582\n",
      "Epoch   1 Batch  450/1077 - Train Accuracy: 0.9551, Validation Accuracy: 0.9180, Loss: 0.0487\n",
      "Epoch   1 Batch  460/1077 - Train Accuracy: 0.9547, Validation Accuracy: 0.9169, Loss: 0.0554\n",
      "Epoch   1 Batch  470/1077 - Train Accuracy: 0.9679, Validation Accuracy: 0.9350, Loss: 0.0508\n",
      "Epoch   1 Batch  480/1077 - Train Accuracy: 0.9552, Validation Accuracy: 0.9332, Loss: 0.0454\n",
      "Epoch   1 Batch  490/1077 - Train Accuracy: 0.9332, Validation Accuracy: 0.9109, Loss: 0.0521\n",
      "Epoch   1 Batch  500/1077 - Train Accuracy: 0.9539, Validation Accuracy: 0.9325, Loss: 0.0409\n",
      "Epoch   1 Batch  510/1077 - Train Accuracy: 0.9676, Validation Accuracy: 0.9279, Loss: 0.0455\n",
      "Epoch   1 Batch  520/1077 - Train Accuracy: 0.9613, Validation Accuracy: 0.9357, Loss: 0.0410\n",
      "Epoch   1 Batch  530/1077 - Train Accuracy: 0.9508, Validation Accuracy: 0.9357, Loss: 0.0529\n",
      "Epoch   1 Batch  540/1077 - Train Accuracy: 0.9480, Validation Accuracy: 0.9183, Loss: 0.0352\n",
      "Epoch   1 Batch  550/1077 - Train Accuracy: 0.9000, Validation Accuracy: 0.9258, Loss: 0.0436\n",
      "Epoch   1 Batch  560/1077 - Train Accuracy: 0.9273, Validation Accuracy: 0.9247, Loss: 0.0483\n",
      "Epoch   1 Batch  570/1077 - Train Accuracy: 0.9231, Validation Accuracy: 0.9386, Loss: 0.0567\n",
      "Epoch   1 Batch  580/1077 - Train Accuracy: 0.9412, Validation Accuracy: 0.9357, Loss: 0.0361\n",
      "Epoch   1 Batch  590/1077 - Train Accuracy: 0.9260, Validation Accuracy: 0.9396, Loss: 0.0508\n",
      "Epoch   1 Batch  600/1077 - Train Accuracy: 0.9624, Validation Accuracy: 0.9453, Loss: 0.0484\n",
      "Epoch   1 Batch  610/1077 - Train Accuracy: 0.9231, Validation Accuracy: 0.9382, Loss: 0.0462\n",
      "Epoch   1 Batch  620/1077 - Train Accuracy: 0.9559, Validation Accuracy: 0.9442, Loss: 0.0365\n",
      "Epoch   1 Batch  630/1077 - Train Accuracy: 0.9746, Validation Accuracy: 0.9457, Loss: 0.0350\n",
      "Epoch   1 Batch  640/1077 - Train Accuracy: 0.9353, Validation Accuracy: 0.9528, Loss: 0.0407\n",
      "Epoch   1 Batch  650/1077 - Train Accuracy: 0.9547, Validation Accuracy: 0.9510, Loss: 0.0489\n",
      "Epoch   1 Batch  660/1077 - Train Accuracy: 0.9645, Validation Accuracy: 0.9460, Loss: 0.0383\n",
      "Epoch   1 Batch  670/1077 - Train Accuracy: 0.9588, Validation Accuracy: 0.9276, Loss: 0.0462\n",
      "Epoch   1 Batch  680/1077 - Train Accuracy: 0.9382, Validation Accuracy: 0.9368, Loss: 0.0379\n",
      "Epoch   1 Batch  690/1077 - Train Accuracy: 0.9590, Validation Accuracy: 0.9343, Loss: 0.0485\n"
     ]
    },
    {
     "name": "stdout",
     "output_type": "stream",
     "text": [
      "Epoch   1 Batch  700/1077 - Train Accuracy: 0.9613, Validation Accuracy: 0.9325, Loss: 0.0354\n",
      "Epoch   1 Batch  710/1077 - Train Accuracy: 0.9566, Validation Accuracy: 0.9432, Loss: 0.0304\n",
      "Epoch   1 Batch  720/1077 - Train Accuracy: 0.9601, Validation Accuracy: 0.9538, Loss: 0.0394\n",
      "Epoch   1 Batch  730/1077 - Train Accuracy: 0.9348, Validation Accuracy: 0.9325, Loss: 0.0547\n",
      "Epoch   1 Batch  740/1077 - Train Accuracy: 0.9434, Validation Accuracy: 0.9347, Loss: 0.0338\n",
      "Epoch   1 Batch  750/1077 - Train Accuracy: 0.9465, Validation Accuracy: 0.9478, Loss: 0.0365\n",
      "Epoch   1 Batch  760/1077 - Train Accuracy: 0.9574, Validation Accuracy: 0.9411, Loss: 0.0403\n",
      "Epoch   1 Batch  770/1077 - Train Accuracy: 0.9323, Validation Accuracy: 0.9446, Loss: 0.0428\n",
      "Epoch   1 Batch  780/1077 - Train Accuracy: 0.9316, Validation Accuracy: 0.9251, Loss: 0.0552\n",
      "Epoch   1 Batch  790/1077 - Train Accuracy: 0.9105, Validation Accuracy: 0.9499, Loss: 0.0450\n",
      "Epoch   1 Batch  800/1077 - Train Accuracy: 0.9633, Validation Accuracy: 0.9421, Loss: 0.0341\n",
      "Epoch   1 Batch  810/1077 - Train Accuracy: 0.9710, Validation Accuracy: 0.9460, Loss: 0.0262\n",
      "Epoch   1 Batch  820/1077 - Train Accuracy: 0.9539, Validation Accuracy: 0.9503, Loss: 0.0300\n",
      "Epoch   1 Batch  830/1077 - Train Accuracy: 0.9254, Validation Accuracy: 0.9471, Loss: 0.0491\n",
      "Epoch   1 Batch  840/1077 - Train Accuracy: 0.9633, Validation Accuracy: 0.9695, Loss: 0.0344\n",
      "Epoch   1 Batch  850/1077 - Train Accuracy: 0.9487, Validation Accuracy: 0.9531, Loss: 0.0592\n",
      "Epoch   1 Batch  860/1077 - Train Accuracy: 0.9412, Validation Accuracy: 0.9563, Loss: 0.0410\n",
      "Epoch   1 Batch  870/1077 - Train Accuracy: 0.9507, Validation Accuracy: 0.9606, Loss: 0.0362\n",
      "Epoch   1 Batch  880/1077 - Train Accuracy: 0.9508, Validation Accuracy: 0.9414, Loss: 0.0453\n",
      "Epoch   1 Batch  890/1077 - Train Accuracy: 0.9524, Validation Accuracy: 0.9364, Loss: 0.0362\n",
      "Epoch   1 Batch  900/1077 - Train Accuracy: 0.9734, Validation Accuracy: 0.9453, Loss: 0.0424\n",
      "Epoch   1 Batch  910/1077 - Train Accuracy: 0.9431, Validation Accuracy: 0.9375, Loss: 0.0352\n",
      "Epoch   1 Batch  920/1077 - Train Accuracy: 0.9664, Validation Accuracy: 0.9606, Loss: 0.0308\n",
      "Epoch   1 Batch  930/1077 - Train Accuracy: 0.9437, Validation Accuracy: 0.9350, Loss: 0.0394\n",
      "Epoch   1 Batch  940/1077 - Train Accuracy: 0.9555, Validation Accuracy: 0.9663, Loss: 0.0298\n",
      "Epoch   1 Batch  950/1077 - Train Accuracy: 0.9542, Validation Accuracy: 0.9556, Loss: 0.0337\n",
      "Epoch   1 Batch  960/1077 - Train Accuracy: 0.9568, Validation Accuracy: 0.9457, Loss: 0.0334\n",
      "Epoch   1 Batch  970/1077 - Train Accuracy: 0.9699, Validation Accuracy: 0.9545, Loss: 0.0360\n",
      "Epoch   1 Batch  980/1077 - Train Accuracy: 0.9543, Validation Accuracy: 0.9666, Loss: 0.0383\n",
      "Epoch   1 Batch  990/1077 - Train Accuracy: 0.9539, Validation Accuracy: 0.9471, Loss: 0.0403\n",
      "Epoch   1 Batch 1000/1077 - Train Accuracy: 0.9386, Validation Accuracy: 0.9308, Loss: 0.0353\n",
      "Epoch   1 Batch 1010/1077 - Train Accuracy: 0.9707, Validation Accuracy: 0.9453, Loss: 0.0279\n",
      "Epoch   1 Batch 1020/1077 - Train Accuracy: 0.9750, Validation Accuracy: 0.9624, Loss: 0.0303\n",
      "Epoch   1 Batch 1030/1077 - Train Accuracy: 0.9668, Validation Accuracy: 0.9531, Loss: 0.0319\n",
      "Epoch   1 Batch 1040/1077 - Train Accuracy: 0.9470, Validation Accuracy: 0.9297, Loss: 0.0378\n",
      "Epoch   1 Batch 1050/1077 - Train Accuracy: 0.9664, Validation Accuracy: 0.9606, Loss: 0.0295\n",
      "Epoch   1 Batch 1060/1077 - Train Accuracy: 0.9551, Validation Accuracy: 0.9339, Loss: 0.0284\n",
      "Epoch   1 Batch 1070/1077 - Train Accuracy: 0.9578, Validation Accuracy: 0.9585, Loss: 0.0332\n",
      "Model Trained and Saved\n"
     ]
    }
   ],
   "source": [
    "\"\"\"\n",
    "DON'T MODIFY ANYTHING IN THIS CELL\n",
    "\"\"\"\n",
    "def get_accuracy(target, logits):\n",
    "    \"\"\"\n",
    "    Calculate accuracy\n",
    "    \"\"\"\n",
    "    max_seq = max(target.shape[1], logits.shape[1])\n",
    "    if max_seq - target.shape[1]:\n",
    "        target = np.pad(\n",
    "            target,\n",
    "            [(0,0),(0,max_seq - target.shape[1])],\n",
    "            'constant')\n",
    "    if max_seq - logits.shape[1]:\n",
    "        logits = np.pad(\n",
    "            logits,\n",
    "            [(0,0),(0,max_seq - logits.shape[1])],\n",
    "            'constant')\n",
    "\n",
    "    return np.mean(np.equal(target, logits))\n",
    "\n",
    "# Split data to training and validation sets\n",
    "train_source = source_int_text[batch_size:]\n",
    "train_target = target_int_text[batch_size:]\n",
    "valid_source = source_int_text[:batch_size]\n",
    "valid_target = target_int_text[:batch_size]\n",
    "(valid_sources_batch, valid_targets_batch, valid_sources_lengths, valid_targets_lengths ) = next(get_batches(valid_source,\n",
    "                                                                                                             valid_target,\n",
    "                                                                                                             batch_size,\n",
    "                                                                                                             source_vocab_to_int['<PAD>'],\n",
    "                                                                                                             target_vocab_to_int['<PAD>']))                                                                                                  \n",
    "with tf.Session(graph=train_graph) as sess:\n",
    "    sess.run(tf.global_variables_initializer())\n",
    "\n",
    "    for epoch_i in range(epochs):\n",
    "        for batch_i, (source_batch, target_batch, sources_lengths, targets_lengths) in enumerate(\n",
    "                get_batches(train_source, train_target, batch_size,\n",
    "                            source_vocab_to_int['<PAD>'],\n",
    "                            target_vocab_to_int['<PAD>'])):\n",
    "\n",
    "            _, loss = sess.run(\n",
    "                [train_op, cost],\n",
    "                {input_data: source_batch,\n",
    "                 targets: target_batch,\n",
    "                 lr: learning_rate,\n",
    "                 target_sequence_length: targets_lengths,\n",
    "                 source_sequence_length: sources_lengths,\n",
    "                 keep_prob: keep_probability})\n",
    "\n",
    "\n",
    "            if batch_i % display_step == 0 and batch_i > 0:\n",
    "\n",
    "\n",
    "                batch_train_logits = sess.run(\n",
    "                    inference_logits,\n",
    "                    {input_data: source_batch,\n",
    "                     source_sequence_length: sources_lengths,\n",
    "                     target_sequence_length: targets_lengths,\n",
    "                     keep_prob: 1.0})\n",
    "\n",
    "\n",
    "                batch_valid_logits = sess.run(\n",
    "                    inference_logits,\n",
    "                    {input_data: valid_sources_batch,\n",
    "                     source_sequence_length: valid_sources_lengths,\n",
    "                     target_sequence_length: valid_targets_lengths,\n",
    "                     keep_prob: 1.0})\n",
    "\n",
    "                train_acc = get_accuracy(target_batch, batch_train_logits)\n",
    "\n",
    "                valid_acc = get_accuracy(valid_targets_batch, batch_valid_logits)\n",
    "\n",
    "                print('Epoch {:>3} Batch {:>4}/{} - Train Accuracy: {:>6.4f}, Validation Accuracy: {:>6.4f}, Loss: {:>6.4f}'\n",
    "                      .format(epoch_i, batch_i, len(source_int_text) // batch_size, train_acc, valid_acc, loss))\n",
    "\n",
    "    # Save Model\n",
    "    saver = tf.train.Saver()\n",
    "    saver.save(sess, save_path)\n",
    "    print('Model Trained and Saved')"
   ]
  },
  {
   "cell_type": "markdown",
   "metadata": {},
   "source": [
    "### Save Parameters\n",
    "Save the `batch_size` and `save_path` parameters for inference."
   ]
  },
  {
   "cell_type": "code",
   "execution_count": 23,
   "metadata": {
    "collapsed": true
   },
   "outputs": [],
   "source": [
    "\"\"\"\n",
    "DON'T MODIFY ANYTHING IN THIS CELL\n",
    "\"\"\"\n",
    "# Save parameters for checkpoint\n",
    "helper.save_params(save_path)"
   ]
  },
  {
   "cell_type": "markdown",
   "metadata": {},
   "source": [
    "# Checkpoint"
   ]
  },
  {
   "cell_type": "code",
   "execution_count": 24,
   "metadata": {
    "collapsed": true
   },
   "outputs": [],
   "source": [
    "\"\"\"\n",
    "DON'T MODIFY ANYTHING IN THIS CELL\n",
    "\"\"\"\n",
    "import tensorflow as tf\n",
    "import numpy as np\n",
    "import helper\n",
    "import problem_unittests as tests\n",
    "\n",
    "_, (source_vocab_to_int, target_vocab_to_int), (source_int_to_vocab, target_int_to_vocab) = helper.load_preprocess()\n",
    "load_path = helper.load_params()"
   ]
  },
  {
   "cell_type": "markdown",
   "metadata": {},
   "source": [
    "## Sentence to Sequence\n",
    "To feed a sentence into the model for translation, you first need to preprocess it.  Implement the function `sentence_to_seq()` to preprocess new sentences.\n",
    "\n",
    "- Convert the sentence to lowercase\n",
    "- Convert words into ids using `vocab_to_int`\n",
    " - Convert words not in the vocabulary, to the `<UNK>` word id."
   ]
  },
  {
   "cell_type": "code",
   "execution_count": 25,
   "metadata": {},
   "outputs": [
    {
     "name": "stdout",
     "output_type": "stream",
     "text": [
      "Tests Passed\n"
     ]
    }
   ],
   "source": [
    "def sentence_to_seq(sentence, vocab_to_int):\n",
    "    \"\"\"\n",
    "    Convert a sentence to a sequence of ids\n",
    "    :param sentence: String\n",
    "    :param vocab_to_int: Dictionary to go from the words to an id\n",
    "    :return: List of word ids\n",
    "    \"\"\"\n",
    "    # TODO: Implement Function\n",
    "    sequence_length = len(sentence)\n",
    "    sentence = sentence.lower()\n",
    "    smt= [vocab_to_int.get(word, vocab_to_int['<UNK>']) for word in sentence.split(' ')]\n",
    "   \n",
    "    return smt\n",
    "\n",
    "\n",
    "\"\"\"\n",
    "DON'T MODIFY ANYTHING IN THIS CELL THAT IS BELOW THIS LINE\n",
    "\"\"\"\n",
    "tests.test_sentence_to_seq(sentence_to_seq)"
   ]
  },
  {
   "cell_type": "markdown",
   "metadata": {},
   "source": [
    "## Translate\n",
    "This will translate `translate_sentence` from English to French."
   ]
  },
  {
   "cell_type": "code",
   "execution_count": 26,
   "metadata": {},
   "outputs": [
    {
     "name": "stdout",
     "output_type": "stream",
     "text": [
      "INFO:tensorflow:Restoring parameters from checkpoints/dev\n",
      "Input\n",
      "  Word Ids:      [91, 162, 165, 185, 81, 97, 104]\n",
      "  English Words: ['he', 'saw', 'a', 'old', 'yellow', 'truck', '.']\n",
      "\n",
      "Prediction\n",
      "  Word Ids:      [182, 339, 140, 21, 68, 57, 178, 119, 1]\n",
      "  French Words: il a vu un vieux camion jaune . <EOS>\n"
     ]
    }
   ],
   "source": [
    "translate_sentence = 'he saw a old yellow truck .'\n",
    "\n",
    "\n",
    "\"\"\"\n",
    "DON'T MODIFY ANYTHING IN THIS CELL\n",
    "\"\"\"\n",
    "translate_sentence = sentence_to_seq(translate_sentence, source_vocab_to_int)\n",
    "\n",
    "loaded_graph = tf.Graph()\n",
    "with tf.Session(graph=loaded_graph) as sess:\n",
    "    # Load saved model\n",
    "    loader = tf.train.import_meta_graph(load_path + '.meta')\n",
    "    loader.restore(sess, load_path)\n",
    "\n",
    "    input_data = loaded_graph.get_tensor_by_name('input:0')\n",
    "    logits = loaded_graph.get_tensor_by_name('predictions:0')\n",
    "    target_sequence_length = loaded_graph.get_tensor_by_name('target_sequence_length:0')\n",
    "    source_sequence_length = loaded_graph.get_tensor_by_name('source_sequence_length:0')\n",
    "    keep_prob = loaded_graph.get_tensor_by_name('keep_prob:0')\n",
    "\n",
    "    translate_logits = sess.run(logits, {input_data: [translate_sentence]*batch_size,\n",
    "                                         target_sequence_length: [len(translate_sentence)*2]*batch_size,\n",
    "                                         source_sequence_length: [len(translate_sentence)]*batch_size,\n",
    "                                         keep_prob: 1.0})[0]\n",
    "\n",
    "print('Input')\n",
    "print('  Word Ids:      {}'.format([i for i in translate_sentence]))\n",
    "print('  English Words: {}'.format([source_int_to_vocab[i] for i in translate_sentence]))\n",
    "\n",
    "print('\\nPrediction')\n",
    "print('  Word Ids:      {}'.format([i for i in translate_logits]))\n",
    "print('  French Words: {}'.format(\" \".join([target_int_to_vocab[i] for i in translate_logits])))\n"
   ]
  },
  {
   "cell_type": "markdown",
   "metadata": {},
   "source": [
    "## Imperfect Translation\n",
    "You might notice that some sentences translate better than others.  Since the dataset you're using only has a vocabulary of 227 English words of the thousands that you use, you're only going to see good results using these words.  For this project, you don't need a perfect translation. However, if you want to create a better translation model, you'll need better data.\n",
    "\n",
    "You can train on the [WMT10 French-English corpus](http://www.statmt.org/wmt10/training-giga-fren.tar).  This dataset has more vocabulary and richer in topics discussed.  However, this will take you days to train, so make sure you've a GPU and the neural network is performing well on dataset we provided.  Just make sure you play with the WMT10 corpus after you've submitted this project.\n",
    "## Submitting This Project\n",
    "When submitting this project, make sure to run all the cells before saving the notebook. Save the notebook file as \"dlnd_language_translation.ipynb\" and save it as a HTML file under \"File\" -> \"Download as\". Include the \"helper.py\" and \"problem_unittests.py\" files in your submission."
   ]
  }
 ],
 "metadata": {
  "anaconda-cloud": {},
  "kernelspec": {
   "display_name": "Python 3",
   "language": "python",
   "name": "python3"
  },
  "language_info": {
   "codemirror_mode": {
    "name": "ipython",
    "version": 3
   },
   "file_extension": ".py",
   "mimetype": "text/x-python",
   "name": "python",
   "nbconvert_exporter": "python",
   "pygments_lexer": "ipython3",
   "version": "3.5.3"
  }
 },
 "nbformat": 4,
 "nbformat_minor": 1
}
